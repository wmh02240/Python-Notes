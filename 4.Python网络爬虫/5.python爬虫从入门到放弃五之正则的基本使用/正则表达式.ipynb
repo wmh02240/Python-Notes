{
 "cells": [
  {
   "cell_type": "raw",
   "metadata": {},
   "source": [
    "\\w      匹配字母数字及下划线\n",
    "\\W      匹配f非字母数字下划线\n",
    "\\s      匹配任意空白字符，等价于[\\t\\n\\r\\f]\n",
    "\\S      匹配任意非空字符\n",
    "\\d      匹配任意数字\n",
    "\\D      匹配任意非数字\n",
    "\\A      匹配字符串开始\n",
    "\\Z      匹配字符串结束，如果存在换行，只匹配换行前的结束字符串\n",
    "\\z      匹配字符串结束\n",
    "\\G      匹配最后匹配完成的位置\n",
    "\\n      匹配一个换行符\n",
    "\\t      匹配一个制表符\n",
    "^       匹配字符串的开头\n",
    "$       匹配字符串的末尾\n",
    ".       匹配任意字符，除了换行符，re.DOTALL标记被指定时，则可以匹配包括换行符的任意字符\n",
    "[....]  用来表示一组字符，单独列出：[amk]匹配a,m或k\n",
    "[^...]  不在[]中的字符：[^abc]匹配除了a,b,c之外的字符\n",
    "*       匹配0个或多个的表达式\n",
    "+       匹配1个或者多个的表达式\n",
    "?       匹配0个或1个由前面的正则表达式定义的片段，非贪婪方式\n",
    "{n}     精确匹配n前面的表示\n",
    "{m,m}   匹配n到m次由前面的正则表达式定义片段，贪婪模式\n",
    "a|b     匹配a或者b\n",
    "()      匹配括号内的表达式，也表示一个组"
   ]
  },
  {
   "cell_type": "code",
   "execution_count": null,
   "metadata": {
    "ExecuteTime": {
     "start_time": "2019-08-21T12:51:00.043Z"
    }
   },
   "outputs": [],
   "source": [
    "import re\n",
    "\n",
    "content= \"hello 123 4567 World_This is a regex Demo\"\n",
    "result = re.match('^hello\\s\\d\\d\\d\\s\\d{4}\\s\\w{10}.*Demo$',content)\n",
    "print(result)\n",
    "print(result.group())\n",
    "print(result.span())\n",
    "# result.group()获取匹配的结果\n",
    "# result.span()获去匹配字符串的长度范围"
   ]
  },
  {
   "cell_type": "code",
   "execution_count": null,
   "metadata": {
    "ExecuteTime": {
     "start_time": "2019-08-21T12:51:00.046Z"
    }
   },
   "outputs": [],
   "source": [
    "content1 = re.match(\"^hello.*Demo$\", content)\n",
    "print(content1.span())\n",
    "print(content1.group())"
   ]
  },
  {
   "cell_type": "code",
   "execution_count": null,
   "metadata": {
    "ExecuteTime": {
     "start_time": "2019-08-21T12:51:00.047Z"
    }
   },
   "outputs": [],
   "source": [
    "# 目标匹配\n",
    "import re\n",
    "content= \"hello 1234567 World_This is a regex Demo\"\n",
    "result = re.match('^hello\\s(\\d+)\\sWorld.*Demo$',content)\n",
    "print(result)\n",
    "print(result.group())\n",
    "print(result.group(1))\n",
    "print(result.span())"
   ]
  },
  {
   "cell_type": "code",
   "execution_count": null,
   "metadata": {
    "ExecuteTime": {
     "start_time": "2019-08-21T12:51:00.049Z"
    }
   },
   "outputs": [],
   "source": [
    "# 贪婪匹配\n",
    "import re \n",
    "content = \"hello 1234567 World_This is a regex Demo\"\n",
    "result = re.match(\"^hel.*(\\d+)\\sWor.*Demo$\", content)\n",
    "print(result)\n",
    "print(result.group())\n",
    "print(result.group(1))\n",
    "print(result.span())"
   ]
  },
  {
   "cell_type": "code",
   "execution_count": null,
   "metadata": {
    "ExecuteTime": {
     "start_time": "2019-08-21T12:51:00.051Z"
    }
   },
   "outputs": [],
   "source": [
    "# 非贪婪匹配\n",
    "import re \n",
    "content = \"hello 1234567 World_This is a regex Demo\"\n",
    "result = re.match(\"^hel.*?(\\d+)\\sWor.*Demo$\", content)\n",
    "print(result)\n",
    "print(result.group())\n",
    "print(result.group(1))\n",
    "print(result.span())"
   ]
  },
  {
   "cell_type": "code",
   "execution_count": null,
   "metadata": {
    "ExecuteTime": {
     "start_time": "2019-08-21T12:51:00.053Z"
    }
   },
   "outputs": [],
   "source": [
    "# 匹配模式 很多时候匹配的内容是存在换行的问题的，这个时候的就需要用到匹配模式re.S来匹配换行的内容\n",
    "import re\n",
    "\n",
    "content = \"\"\"hello 123456 world_this\n",
    "my name is zhaofan\n",
    "\"\"\"\n",
    "\n",
    "result =re.match('^he.*?(\\d+).*?zhaofan$',content,re.S)  #匹配模式:re.S\n",
    "print(result)\n",
    "print(result.group())\n",
    "print(result.group(1))\n"
   ]
  },
  {
   "cell_type": "code",
   "execution_count": null,
   "metadata": {
    "ExecuteTime": {
     "start_time": "2019-08-21T12:51:00.055Z"
    }
   },
   "outputs": [],
   "source": [
    "import re\n",
    "\n",
    "content = \"extra things hello 123455 world_this is a Re Extra things\"\n",
    "\n",
    "result = re.search(\"hello.*?(\\d+).*?Re\",content)\n",
    "print(result)\n",
    "print(result.group())\n",
    "print(result.group(1))"
   ]
  },
  {
   "cell_type": "code",
   "execution_count": null,
   "metadata": {
    "ExecuteTime": {
     "start_time": "2019-08-21T12:51:00.056Z"
    }
   },
   "outputs": [],
   "source": [
    "import re\n",
    "\n",
    "content = \"hello 123455 world_this is a Re\"\n",
    "\n",
    "result = re.match(\"^hello.*?(\\d+).*?Re$\",content)\n",
    "print(result)\n",
    "print(result.group())\n",
    "print(result.group(1))"
   ]
  },
  {
   "cell_type": "code",
   "execution_count": null,
   "metadata": {
    "ExecuteTime": {
     "start_time": "2019-08-21T12:51:00.058Z"
    }
   },
   "outputs": [],
   "source": [
    "import re\n",
    "\n",
    "html = '''<div id=\"songs-list\">\n",
    "    <h2 class=\"title\">经典老歌</h2>\n",
    "    <p class=\"introduction\">\n",
    "        经典老歌列表\n",
    "    </p>\n",
    "    <ul id=\"list\" class=\"list-group\">\n",
    "        <li data-view=\"2\">一路上有你</li>\n",
    "        <li data-view=\"7\">\n",
    "            <a href=\"/2.mp3\" singer=\"任贤齐\">沧海一声笑</a>\n",
    "        </li>\n",
    "        <li data-view=\"4\" class=\"active\">\n",
    "            <a href=\"/3.mp3\" singer=\"齐秦\">往事随风</a>\n",
    "        </li>\n",
    "        <li data-view=\"6\"><a href=\"/4.mp3\" singer=\"beyond\">光辉岁月</a></li>\n",
    "        <li data-view=\"5\"><a href=\"/5.mp3\" singer=\"陈慧琳\">记事本</a></li>\n",
    "        <li data-view=\"5\">\n",
    "            <a href=\"/6.mp3\" singer=\"邓丽君\">但愿人长久</a>\n",
    "        </li>\n",
    "    </ul>\n",
    "</div>'''\n",
    "\n",
    "result = re.search('<li.*?active.*?singer=\"(.*?)\">(.*?)</a>', html, re.S)\n",
    "print(result)\n",
    "print(result.groups())\n",
    "print(result.group(1))\n",
    "print(result.group(2))"
   ]
  },
  {
   "cell_type": "code",
   "execution_count": null,
   "metadata": {
    "ExecuteTime": {
     "start_time": "2019-08-21T12:51:00.059Z"
    }
   },
   "outputs": [],
   "source": [
    "import re\n",
    "\n",
    "html = '''<div id=\"songs-list\">\n",
    "    <h2 class=\"title\">经典老歌</h2>\n",
    "    <p class=\"introduction\">\n",
    "        经典老歌列表\n",
    "    </p>\n",
    "    <ul id=\"list\" class=\"list-group\">\n",
    "        <li data-view=\"2\">一路上有你</li>\n",
    "        <li data-view=\"7\">\n",
    "            <a href=\"/2.mp3\" singer=\"任贤齐\">沧海一声笑</a>\n",
    "        </li>\n",
    "        <li data-view=\"4\" class=\"active\">\n",
    "            <a href=\"/3.mp3\" singer=\"齐秦\">往事随风</a>\n",
    "        </li>\n",
    "        <li data-view=\"6\"><a href=\"/4.mp3\" singer=\"beyond\">光辉岁月</a></li>\n",
    "        <li data-view=\"5\"><a href=\"/5.mp3\" singer=\"陈慧琳\">记事本</a></li>\n",
    "        <li data-view=\"5\">\n",
    "            <a href=\"/6.mp3\" singer=\"邓丽君\">但愿人长久</a>\n",
    "        </li>\n",
    "    </ul>\n",
    "</div>'''\n",
    "\n",
    "result = re.search('<li.*?singer=\"(.*?)\">(.*?)</a>', html, re.S)\n",
    "print(result)\n",
    "print(result.groups())\n",
    "print(result.group(1))\n",
    "print(result.group(2))"
   ]
  },
  {
   "cell_type": "code",
   "execution_count": null,
   "metadata": {
    "ExecuteTime": {
     "start_time": "2019-08-21T12:51:00.062Z"
    }
   },
   "outputs": [],
   "source": [
    "#没有re.S,不能处理换行符\n",
    "import re   \n",
    "\n",
    "html = '''<div id=\"songs-list\">\n",
    "    <h2 class=\"title\">经典老歌</h2>\n",
    "    <p class=\"introduction\">\n",
    "        经典老歌列表\n",
    "    </p>\n",
    "    <ul id=\"list\" class=\"list-group\">\n",
    "        <li data-view=\"2\">一路上有你</li>\n",
    "        <li data-view=\"7\">\n",
    "            <a href=\"/2.mp3\" singer=\"任贤齐\">沧海一声笑</a>\n",
    "        </li>\n",
    "        <li data-view=\"4\" class=\"active\">\n",
    "            <a href=\"/3.mp3\" singer=\"齐秦\">往事随风</a>\n",
    "        </li>\n",
    "        <li data-view=\"6\"><a href=\"/4.mp3\" singer=\"beyond\">光辉岁月</a></li>\n",
    "        <li data-view=\"5\"><a href=\"/5.mp3\" singer=\"陈慧琳\">记事本</a></li>\n",
    "        <li data-view=\"5\">\n",
    "            <a href=\"/6.mp3\" singer=\"邓丽君\">但愿人长久</a>\n",
    "        </li>\n",
    "    </ul>\n",
    "</div>'''\n",
    "\n",
    "result = re.search('<li.*?singer=\"(.*?)\">(.*?)</a>', html)\n",
    "print(result)\n",
    "print(result.groups())\n",
    "print(result.group(1))\n",
    "print(result.group(2))"
   ]
  },
  {
   "cell_type": "code",
   "execution_count": null,
   "metadata": {
    "ExecuteTime": {
     "start_time": "2019-08-21T12:51:00.066Z"
    }
   },
   "outputs": [],
   "source": [
    "import re   \n",
    "\n",
    "html = '''<div id=\"songs-list\">\n",
    "    <h2 class=\"title\">经典老歌</h2>\n",
    "    <p class=\"introduction\">\n",
    "        经典老歌列表\n",
    "    </p>\n",
    "    <ul id=\"list\" class=\"list-group\">\n",
    "        <li data-view=\"2\">一路上有你</li>\n",
    "        <li data-view=\"7\">\n",
    "            <a href=\"/2.mp3\" singer=\"任贤齐\">沧海一声笑</a>\n",
    "        </li>\n",
    "        <li data-view=\"4\" class=\"active\">\n",
    "            <a href=\"/3.mp3\" singer=\"齐秦\">往事随风</a>\n",
    "        </li>\n",
    "        <li data-view=\"6\"><a href=\"/4.mp3\" singer=\"beyond\">光辉岁月</a></li>\n",
    "        <li data-view=\"5\"><a href=\"/5.mp3\" singer=\"陈慧琳\">记事本</a></li>\n",
    "        <li data-view=\"5\">\n",
    "            <a href=\"/6.mp3\" singer=\"邓丽君\">但愿人长久</a>\n",
    "        </li>\n",
    "    </ul>\n",
    "</div>'''\n",
    "\n",
    "results = re.findall('<li.*?href=\"(.*?)\".*?singer=\"(.*?)\">(.*?)</a>', html, re.S)\n",
    "#           re.findall('<li.*?>\\s*?(<a.*?>)?(\\w+)(</a>)?\\s*?</li>',html,re.S)\n",
    "\n",
    "print(results)\n",
    "for result in results:\n",
    "    print(result)\n",
    "    print(result[0], result[1], result[2])"
   ]
  },
  {
   "cell_type": "code",
   "execution_count": null,
   "metadata": {
    "ExecuteTime": {
     "start_time": "2019-08-21T12:51:00.068Z"
    }
   },
   "outputs": [],
   "source": [
    "import re   \n",
    "\n",
    "html = '''<div id=\"songs-list\">\n",
    "    <h2 class=\"title\">经典老歌</h2>\n",
    "    <p class=\"introduction\">\n",
    "        经典老歌列表\n",
    "    </p>\n",
    "    <ul id=\"list\" class=\"list-group\">\n",
    "        <li data-view=\"2\">一路上有你</li>\n",
    "        <li data-view=\"7\">\n",
    "            <a href=\"/2.mp3\" singer=\"任贤齐\">沧海一声笑</a>\n",
    "        </li>\n",
    "        <li data-view=\"4\" class=\"active\">\n",
    "            <a href=\"/3.mp3\" singer=\"齐秦\">往事随风</a>\n",
    "        </li>\n",
    "        <li data-view=\"6\"><a href=\"/4.mp3\" singer=\"beyond\">光辉岁月</a></li>\n",
    "        <li data-view=\"5\"><a href=\"/5.mp3\" singer=\"陈慧琳\">记事本</a></li>\n",
    "        <li data-view=\"5\">\n",
    "            <a href=\"/6.mp3\" singer=\"邓丽君\">但愿人长久</a>\n",
    "        </li>\n",
    "    </ul>\n",
    "</div>'''\n",
    "#匹配所有的歌名\n",
    "results = re.findall('<li.*?>\\s*?(<a.*?)>?(\\w+)(</a>)?\\s*?</li>',html,re.S)\n",
    "#解释  <li.*?>匹配li标签  因为第二个第三个li标签存在换行 所以要用\\s*? \\s表示匹配任意空白字符，等价于[\\t\\n\\r\\f]  *表示匹配0个或多个的表达式\n",
    "#      ?表示匹配0个或1个由前面的正则表达式定义的片段，非贪婪方式，即有或没有\n",
    "#      (<a.*?>)?匹配a标签 ?表示有货没有a标签\n",
    "#      \\w匹配字母数字及下划线 +表示匹配1个或者多个的表达式\n",
    "#      ()匹配括号内的表达式，也表示一个组，也可以将其看作一个组打印呈现出来\n",
    "\n",
    "print(results)\n",
    "for result in results:\n",
    "    print(result[1])\n",
    "    \n",
    "#方法二\n",
    "html1 = re.sub('<a.*?>|</a>',\"\",html)  #<a.*?>|</a>匹配<a.*?>或者</a>\n",
    "print(html1)\n",
    "html2 = re.findall('<li.*?>(.*?)</li>',html1,re.S)\n",
    "print(html2)\n",
    "for html3 in html2:\n",
    "    print(html3.strip())  #Python strip() 方法用于移除字符串头尾指定的字符（默认为空格或换行符）或字符序列。\n",
    "                          #注意：该方法只能删除开头或是结尾的字符，不能删除中间部分的字符。"
   ]
  },
  {
   "cell_type": "code",
   "execution_count": null,
   "metadata": {
    "ExecuteTime": {
     "start_time": "2019-08-21T12:51:00.070Z"
    }
   },
   "outputs": [],
   "source": [
    "import re\n",
    "\n",
    "content = \"Extra things hello 123455 World_t111his is a regex Demo extra things\"\n",
    "\n",
    "content = re.sub('\\d+','',content)   #\\d匹配任意字符串 +匹配一个或多个\n",
    "print(content)"
   ]
  },
  {
   "cell_type": "code",
   "execution_count": null,
   "metadata": {
    "ExecuteTime": {
     "start_time": "2019-08-21T12:51:00.072Z"
    }
   },
   "outputs": [],
   "source": [
    "import re\n",
    "\n",
    "content = \"Extra things hello 123455 World_t111his is a regex Demo extra things\"\n",
    "\n",
    "content = re.sub('\\d+','woppp',content)   #\\d匹配任意字符串 +匹配一个或多个\n",
    "print(content)"
   ]
  },
  {
   "cell_type": "code",
   "execution_count": null,
   "metadata": {
    "ExecuteTime": {
     "start_time": "2019-08-21T12:51:00.075Z"
    }
   },
   "outputs": [],
   "source": [
    "#在有些情况下我们替换字符的时候，还想获取我们匹配的字符串，然后在后面添加一些内容，可以通过下面方式实现：\n",
    "import re\n",
    "\n",
    "content = \"Extra things hello 123455 World_this is a regex Demo extra things\"\n",
    "\n",
    "content = re.sub('(\\d+)',r'\\1 7890',content)  #这里需要注意的一个问题是\\1是获取第一个匹配的结果，为了防止转义字符的问题，我们需要在前面加上r\n",
    "print(content)"
   ]
  },
  {
   "cell_type": "code",
   "execution_count": null,
   "metadata": {
    "ExecuteTime": {
     "start_time": "2019-08-21T12:51:00.076Z"
    }
   },
   "outputs": [],
   "source": [
    "import re\n",
    "content= \"\"\"hello 12345 world_this\n",
    "fan\n",
    "\"\"\"\n",
    "\n",
    "pattern =re.compile(\"hello.*fan\",re.S)  #将正则表达式编译成正则表达式对象，方便复用该正则表达式\n",
    "\n",
    "result = re.match(pattern,content)\n",
    "print(result)\n",
    "print(result.group())"
   ]
  },
  {
   "cell_type": "code",
   "execution_count": null,
   "metadata": {
    "ExecuteTime": {
     "start_time": "2019-08-21T12:51:00.078Z"
    }
   },
   "outputs": [],
   "source": [
    "#实战豆瓣图书\n",
    "import requests\n",
    "import re\n",
    "\n",
    "content = requests.get(\"https://book.douban.com/\").text\n",
    "# print(content)\n",
    "pattern = re.compile('<li.*?cover.*?href=\"(.*?)\".*?</li>', re.S)\n",
    "# pattern = re.compile('<li.*?cover.*?href=“(.*?)”.*?title=\"(.*?)\".*?more-meta.*?author\">(.*?)</span>.*?year\">(.*?)</span>.*?publisher\">(.*?)</span>.*?</li>',re.S)                           \n",
    "result = re.findall(pattern,content)\n",
    "print(result.group())"
   ]
  },
  {
   "cell_type": "code",
   "execution_count": null,
   "metadata": {
    "ExecuteTime": {
     "start_time": "2019-08-21T12:54:51.167Z"
    }
   },
   "outputs": [],
   "source": [
    "import requests\n",
    "import re\n",
    "content = requests.get('https://book.douban.com/').text\n",
    "pattern = re.compile('<div.*?class=\"cover\".*?href=\"(.*?)\".*?title=\"(.*?)\".*?</div>', re.S)\n",
    "results = re.findall(pattern, content)\n",
    "print(results)\n",
    "\n",
    "for result in results:\n",
    "    url,name,author,date = result\n",
    "    author = re.sub('\\s','',author)\n",
    "    date = re.sub('\\s','',date)\n",
    "    print(url,name,author,date)"
   ]
  },
  {
   "cell_type": "code",
   "execution_count": null,
   "metadata": {},
   "outputs": [],
   "source": []
  }
 ],
 "metadata": {
  "kernelspec": {
   "display_name": "Python 3",
   "language": "python",
   "name": "python3"
  },
  "toc": {
   "base_numbering": 1,
   "nav_menu": {},
   "number_sections": true,
   "sideBar": true,
   "skip_h1_title": false,
   "title_cell": "Table of Contents",
   "title_sidebar": "Contents",
   "toc_cell": false,
   "toc_position": {},
   "toc_section_display": true,
   "toc_window_display": false
  }
 },
 "nbformat": 4,
 "nbformat_minor": 2
}
