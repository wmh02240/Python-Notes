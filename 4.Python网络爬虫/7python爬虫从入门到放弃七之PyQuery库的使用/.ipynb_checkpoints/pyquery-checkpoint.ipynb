{
 "cells": [
  {
   "cell_type": "markdown",
   "metadata": {},
   "source": [
    "###PyQuery库也是一个非常强大又灵活的网页解析库，如果你有前端开发经验的，都应该接触过jQuery,那么PyQuery就是你非常绝佳的选择，PyQuery 是 Python 仿照 jQuery 的严格实现。语法与 jQuery 几乎完全相同，所以不用再去费心去记一些奇怪的方法了。\n",
    "官网地址：http://pyquery.readthedocs.io/en/latest/\n",
    "jQuery参考文档： http://jquery.cuishifeng.cn/\n",
    "pyquery中DOM的其他api操作参考：\n",
    "http://pyquery.readthedocs.io/en/latest/api.html"
   ]
  },
  {
   "cell_type": "markdown",
   "metadata": {
    "ExecuteTime": {
     "end_time": "2019-08-22T00:31:48.663465Z",
     "start_time": "2019-08-22T00:31:48.660471Z"
    }
   },
   "source": [
    "# 初始化"
   ]
  },
  {
   "cell_type": "code",
   "execution_count": null,
   "metadata": {},
   "outputs": [],
   "source": [
    "##初始化  初始化的时候一般有三种传入方式：传入字符串初始化，传入url初始化,传入文件初始化"
   ]
  },
  {
   "cell_type": "code",
   "execution_count": 2,
   "metadata": {
    "ExecuteTime": {
     "end_time": "2019-08-22T00:30:11.581567Z",
     "start_time": "2019-08-22T00:30:11.574586Z"
    },
    "collapsed": true
   },
   "outputs": [
    {
     "name": "stdout",
     "output_type": "stream",
     "text": [
      "<div>\n",
      "    <ul>\n",
      "         <li class=\"item-0\">first item</li>\n",
      "         <li class=\"item-1\"><a href=\"link2.html\">second item</a></li>\n",
      "         <li class=\"item-0 active\"><a href=\"link3.html\"><span class=\"bold\">third item</span></a></li>\n",
      "         <li class=\"item-1 active\"><a href=\"link4.html\">fourth item</a></li>\n",
      "         <li class=\"item-0\"><a href=\"link5.html\">fifth item</a></li>\n",
      "     </ul>\n",
      "</div>\n",
      "<class 'pyquery.pyquery.PyQuery'>\n",
      "<li class=\"item-0\">first item</li>\n",
      "         <li class=\"item-1\"><a href=\"link2.html\">second item</a></li>\n",
      "         <li class=\"item-0 active\"><a href=\"link3.html\"><span class=\"bold\">third item</span></a></li>\n",
      "         <li class=\"item-1 active\"><a href=\"link4.html\">fourth item</a></li>\n",
      "         <li class=\"item-0\"><a href=\"link5.html\">fifth item</a></li>\n",
      "     \n",
      "<li class=\"item-1\"><a href=\"link2.html\">second item</a></li>\n",
      "         <li class=\"item-1 active\"><a href=\"link4.html\">fourth item</a></li>\n",
      "         \n"
     ]
    }
   ],
   "source": [
    "# 传入字符串初始化\n",
    "from pyquery import PyQuery as pq\n",
    "html = '''\n",
    "<div>\n",
    "    <ul>\n",
    "         <li class=\"item-0\">first item</li>\n",
    "         <li class=\"item-1\"><a href=\"link2.html\">second item</a></li>\n",
    "         <li class=\"item-0 active\"><a href=\"link3.html\"><span class=\"bold\">third item</span></a></li>\n",
    "         <li class=\"item-1 active\"><a href=\"link4.html\">fourth item</a></li>\n",
    "         <li class=\"item-0\"><a href=\"link5.html\">fifth item</a></li>\n",
    "     </ul>\n",
    "</div>\n",
    "'''\n",
    "\n",
    "doc = pq(html)\n",
    "print(doc)\n",
    "print(type(doc))\n",
    "print(doc('li'))\n",
    "print(doc('.item-1'))\n",
    "\n",
    "# 这里我们可以知道上述代码中的doc其实就是一个pyquery对象，我们可以通过doc可以进行元素的选择，其实这里就是一个css选择器，所以CSS选择器的规则都\n",
    "# 可以用，直接doc(标签名)就可以获取所有的该标签的内容，如果想要获取class 则doc('.class_name'),如果是id则doc('#id_name')...."
   ]
  },
  {
   "cell_type": "code",
   "execution_count": 3,
   "metadata": {
    "ExecuteTime": {
     "end_time": "2019-08-22T00:30:48.369626Z",
     "start_time": "2019-08-22T00:30:48.253463Z"
    },
    "collapsed": true
   },
   "outputs": [
    {
     "name": "stdout",
     "output_type": "stream",
     "text": [
      "<head><meta http-equiv=\"content-type\" content=\"text/html;charset=utf-8\"/><meta http-equiv=\"X-UA-Compatible\" content=\"IE=Edge\"/><meta content=\"always\" name=\"referrer\"/><link rel=\"stylesheet\" type=\"text/css\" href=\"http://s1.bdstatic.com/r/www/cache/bdorz/baidu.min.css\"/><title>百度一下，你就知道</title></head> \n"
     ]
    }
   ],
   "source": [
    "# 传入url初始化\n",
    "from pyquery import PyQuery as pq\n",
    "\n",
    "doc = pq(url=\"http://www.baidu.com\", encoding='utf-8')\n",
    "print(doc('head'))"
   ]
  },
  {
   "cell_type": "code",
   "execution_count": null,
   "metadata": {},
   "outputs": [],
   "source": [
    "#传入文件初始化  我们在pq()这里可以传入url参数也可以传入文件参数，当然这里的文件通常是一个html文件，例如：pq(filename='index.html')"
   ]
  },
  {
   "cell_type": "markdown",
   "metadata": {},
   "source": [
    "# 基本的CSS选择器"
   ]
  },
  {
   "cell_type": "code",
   "execution_count": 6,
   "metadata": {
    "ExecuteTime": {
     "end_time": "2019-08-22T01:58:08.300152Z",
     "start_time": "2019-08-22T01:58:08.294140Z"
    },
    "collapsed": true
   },
   "outputs": [
    {
     "name": "stdout",
     "output_type": "stream",
     "text": [
      "<li class=\"item-0\">first item</li>\n",
      "         <li class=\"item-1\"><a href=\"link2.html\">second item</a></li>\n",
      "         <li class=\"item-0 active\"><a href=\"link3.html\"><span class=\"bold\">third item</span></a></li>\n",
      "         <li class=\"item-1 active\"><a href=\"link4.html\">fourth item</a></li>\n",
      "         <li class=\"item-0\"><a href=\"link5.html\">fifth item</a></li>\n",
      "     \n"
     ]
    }
   ],
   "source": [
    "from pyquery import PyQuery as pq\n",
    "html = '''\n",
    "<div id=\"container\">\n",
    "    <ul class=\"list\">\n",
    "         <li class=\"item-0\">first item</li>\n",
    "         <li class=\"item-1\"><a href=\"link2.html\">second item</a></li>\n",
    "         <li class=\"item-0 active\"><a href=\"link3.html\"><span class=\"bold\">third item</span></a></li>\n",
    "         <li class=\"item-1 active\"><a href=\"link4.html\">fourth item</a></li>\n",
    "         <li class=\"item-0\"><a href=\"link5.html\">fifth item</a></li>\n",
    "     </ul>\n",
    " </div>\n",
    "'''\n",
    "doc = pq(html)\n",
    "print(doc('#container .list li'))\n",
    "# 这里我们需要注意的一个地方是doc('#container .list li')，这里的三者之间的并不是必须要挨着，只要是层级关系就可以"
   ]
  },
  {
   "cell_type": "markdown",
   "metadata": {},
   "source": [
    "## 查找元素"
   ]
  },
  {
   "cell_type": "code",
   "execution_count": 20,
   "metadata": {
    "ExecuteTime": {
     "end_time": "2019-08-22T02:09:43.706469Z",
     "start_time": "2019-08-22T02:09:43.697494Z"
    },
    "collapsed": true
   },
   "outputs": [
    {
     "name": "stdout",
     "output_type": "stream",
     "text": [
      "<class 'pyquery.pyquery.PyQuery'>\n",
      "<ul class=\"list\">\n",
      "         <li class=\"item-0\">first item</li>\n",
      "         <li class=\"item-1\"><a href=\"link2.html\">second item</a></li>\n",
      "         <li class=\"item-0 active\"><a href=\"link3.html\"><span class=\"bold\">third item</span></a></li>\n",
      "         <li class=\"item-1 active\"><a href=\"link4.html\">fourth item</a></li>\n",
      "         <li class=\"item-0\"><a href=\"link5.html\">fifth item</a></li>\n",
      "     </ul>\n",
      " \n",
      "<class 'pyquery.pyquery.PyQuery'>\n",
      "<li class=\"item-0\">first item</li>\n",
      "         <li class=\"item-1\"><a href=\"link2.html\">second item</a></li>\n",
      "         <li class=\"item-0 active\"><a href=\"link3.html\"><span class=\"bold\">third item</span></a></li>\n",
      "         <li class=\"item-1 active\"><a href=\"link4.html\">fourth item</a></li>\n",
      "         <li class=\"item-0\"><a href=\"link5.html\">fifth item</a></li>\n",
      "     \n",
      "<class 'pyquery.pyquery.PyQuery'>\n",
      "<li class=\"item-0\">first item</li>\n",
      "         <li class=\"item-1\"><a href=\"link2.html\">second item</a></li>\n",
      "         <li class=\"item-0 active\"><a href=\"link3.html\"><span class=\"bold\">third item</span></a></li>\n",
      "         <li class=\"item-1 active\"><a href=\"link4.html\">fourth item</a></li>\n",
      "         <li class=\"item-0\"><a href=\"link5.html\">fifth item</a></li>\n",
      "     \n",
      "<li class=\"item-0\">first item</li>\n",
      "         <li class=\"item-0 active\"><a href=\"link3.html\"><span class=\"bold\">third item</span></a></li>\n",
      "         <li class=\"item-0\"><a href=\"link5.html\">fifth item</a></li>\n",
      "     \n"
     ]
    }
   ],
   "source": [
    "# 子元素 children,find\n",
    "html = '''\n",
    "<div id=\"container\">\n",
    "    <ul class=\"list\">\n",
    "         <li class=\"item-0\">first item</li>\n",
    "         <li class=\"item-1\"><a href=\"link2.html\">second item</a></li>\n",
    "         <li class=\"item-0 active\"><a href=\"link3.html\"><span class=\"bold\">third item</span></a></li>\n",
    "         <li class=\"item-1 active\"><a href=\"link4.html\">fourth item</a></li>\n",
    "         <li class=\"item-0\"><a href=\"link5.html\">fifth item</a></li>\n",
    "     </ul>\n",
    " </div>\n",
    "'''\n",
    "from pyquery import PyQuery as pq\n",
    "doc = pq(html)\n",
    "items = doc('.list')\n",
    "print(type(items))\n",
    "print(items)\n",
    "lis = items.find('li')\n",
    "print(type(lis))\n",
    "print(lis)\n",
    "\n",
    "# 从结果里我们也可以看出通过pyquery找到结果其实还是一个pyquery对象，可以继续查找，上述中的代码中的items.find('li') 则表示查找ul里的所有\n",
    "# 的li标签当然这里通过children可以实现同样的效果,并且通过.children方法得到的结果也是一个pyquery对象\n",
    "\n",
    "li = items.children()\n",
    "print(type(li))\n",
    "print(li)\n",
    "\n",
    "# 同时在children里也可以用CSS选择器\n",
    "li2 = items.children('.item-0') #类可以写一部份 比如只写active\n",
    "print(li2)"
   ]
  },
  {
   "cell_type": "code",
   "execution_count": 21,
   "metadata": {
    "ExecuteTime": {
     "end_time": "2019-08-22T02:11:12.560204Z",
     "start_time": "2019-08-22T02:11:12.554220Z"
    },
    "collapsed": true
   },
   "outputs": [
    {
     "name": "stdout",
     "output_type": "stream",
     "text": [
      "<class 'pyquery.pyquery.PyQuery'>\n",
      "<div id=\"container\">\n",
      "    <ul class=\"list\">\n",
      "         <li class=\"item-0\">first item</li>\n",
      "         <li class=\"item-1\"><a href=\"link2.html\">second item</a></li>\n",
      "         <li class=\"item-0 active\"><a href=\"link3.html\"><span class=\"bold\">third item</span></a></li>\n",
      "         <li class=\"item-1 active\"><a href=\"link4.html\">fourth item</a></li>\n",
      "         <li class=\"item-0\"><a href=\"link5.html\">fifth item</a></li>\n",
      "     </ul>\n",
      " </div>\n"
     ]
    }
   ],
   "source": [
    "# 父元素 parent,parents方法\n",
    "from pyquery import PyQuery as pq\n",
    "html = '''\n",
    "<div id=\"container\">\n",
    "    <ul class=\"list\">\n",
    "         <li class=\"item-0\">first item</li>\n",
    "         <li class=\"item-1\"><a href=\"link2.html\">second item</a></li>\n",
    "         <li class=\"item-0 active\"><a href=\"link3.html\"><span class=\"bold\">third item</span></a></li>\n",
    "         <li class=\"item-1 active\"><a href=\"link4.html\">fourth item</a></li>\n",
    "         <li class=\"item-0\"><a href=\"link5.html\">fifth item</a></li>\n",
    "     </ul>\n",
    " </div>\n",
    "'''\n",
    "doc = pq(html)\n",
    "items = doc('.list')\n",
    "container = items.parent()\n",
    "print(type(container))\n",
    "print(container)"
   ]
  },
  {
   "cell_type": "code",
   "execution_count": 25,
   "metadata": {
    "ExecuteTime": {
     "end_time": "2019-08-22T02:16:27.212327Z",
     "start_time": "2019-08-22T02:16:27.205347Z"
    },
    "collapsed": true
   },
   "outputs": [
    {
     "name": "stdout",
     "output_type": "stream",
     "text": [
      "<class 'pyquery.pyquery.PyQuery'>\n",
      "<div class=\"wrap\">\n",
      "    <div id=\"container\">\n",
      "        <ul class=\"list\">\n",
      "             <li class=\"item-0\">first item</li>\n",
      "             <li class=\"item-1\"><a href=\"link2.html\">second item</a></li>\n",
      "             <li class=\"item-0 active\"><a href=\"link3.html\"><span class=\"bold\">third item</span></a></li>\n",
      "             <li class=\"item-1 active\"><a href=\"link4.html\">fourth item</a></li>\n",
      "             <li class=\"item-0\"><a href=\"link5.html\">fifth item</a></li>\n",
      "         </ul>\n",
      "     </div>\n",
      " </div><div id=\"container\">\n",
      "        <ul class=\"list\">\n",
      "             <li class=\"item-0\">first item</li>\n",
      "             <li class=\"item-1\"><a href=\"link2.html\">second item</a></li>\n",
      "             <li class=\"item-0 active\"><a href=\"link3.html\"><span class=\"bold\">third item</span></a></li>\n",
      "             <li class=\"item-1 active\"><a href=\"link4.html\">fourth item</a></li>\n",
      "             <li class=\"item-0\"><a href=\"link5.html\">fifth item</a></li>\n",
      "         </ul>\n",
      "     </div>\n",
      " <ul class=\"list\">\n",
      "             <li class=\"item-0\">first item</li>\n",
      "             <li class=\"item-1\"><a href=\"link2.html\">second item</a></li>\n",
      "             <li class=\"item-0 active\"><a href=\"link3.html\"><span class=\"bold\">third item</span></a></li>\n",
      "             <li class=\"item-1 active\"><a href=\"link4.html\">fourth item</a></li>\n",
      "             <li class=\"item-0\"><a href=\"link5.html\">fifth item</a></li>\n",
      "         </ul>\n",
      "     <li class=\"item-0 active\"><a href=\"link3.html\"><span class=\"bold\">third item</span></a></li>\n",
      "             <a href=\"link3.html\"><span class=\"bold\">third item</span></a>\n"
     ]
    }
   ],
   "source": [
    "# 通过.parents就可以找到祖先节点的内容，例子如下：\n",
    "from pyquery import PyQuery as pq\n",
    "html = '''\n",
    "<div class=\"wrap\">\n",
    "    <div id=\"container\">\n",
    "        <ul class=\"list\">\n",
    "             <li class=\"item-0\">first item</li>\n",
    "             <li class=\"item-1\"><a href=\"link2.html\">second item</a></li>\n",
    "             <li class=\"item-0 active\"><a href=\"link3.html\"><span class=\"bold\">third item</span></a></li>\n",
    "             <li class=\"item-1 active\"><a href=\"link4.html\">fourth item</a></li>\n",
    "             <li class=\"item-0\"><a href=\"link5.html\">fifth item</a></li>\n",
    "         </ul>\n",
    "     </div>\n",
    " </div>\n",
    "'''\n",
    "doc = pq(html)\n",
    "items = doc('.bold')\n",
    "parents = items.parents()\n",
    "print(type(parents))\n",
    "print(parents)\n",
    "\n",
    "# 结果如下：从结果我们可以看出返回了两部分内容，一个是的父节点的信息，一个是父节点的父节点的信息即祖先节点的信息"
   ]
  },
  {
   "cell_type": "code",
   "execution_count": 29,
   "metadata": {
    "ExecuteTime": {
     "end_time": "2019-08-22T02:20:29.462637Z",
     "start_time": "2019-08-22T02:20:29.456637Z"
    },
    "collapsed": true
   },
   "outputs": [
    {
     "name": "stdout",
     "output_type": "stream",
     "text": [
      "<li class=\"item-1\"><a href=\"link2.html\">second item</a></li>\n",
      "             <li class=\"item-0\">first item</li>\n",
      "             <li class=\"item-1 active\"><a href=\"link4.html\">fourth item</a></li>\n",
      "             <li class=\"item-0\"><a href=\"link5.html\">fifth item</a></li>\n",
      "         \n"
     ]
    }
   ],
   "source": [
    "# 兄弟元素 siblings\n",
    "from pyquery import PyQuery as pq\n",
    "html = '''\n",
    "<div class=\"wrap\">\n",
    "    <div id=\"container\">\n",
    "        <ul class=\"list\">\n",
    "             <li class=\"item-0\">first item</li>\n",
    "             <li class=\"item-1\"><a href=\"link2.html\">second item</a></li>\n",
    "             <li class=\"item-0 active\"><a href=\"link3.html\"><span class=\"bold\">third item</span></a></li>\n",
    "             <li class=\"item-1 active\"><a href=\"link4.html\">fourth item</a></li>\n",
    "             <li class=\"item-0\"><a href=\"link5.html\">fifth item</a></li>\n",
    "         </ul>\n",
    "     </div>\n",
    " </div>\n",
    "'''\n",
    "doc = pq(html)\n",
    "li = doc('.list .item-0.active')\n",
    "print(li.siblings())\n",
    "\n",
    "# 代码中doc('.list .item-0.active') 中的.tem-0和.active是紧挨着的，所以表示是并的关系，这样满足条件的就剩下一个了：thired item的那个标签了\n",
    "# 这样在通过.siblings就可以获取所有的兄弟标签，当然这里是不包括自己的.同样的在.siblings()里也是可以通过CSS选择器进行筛选"
   ]
  },
  {
   "cell_type": "markdown",
   "metadata": {},
   "source": [
    "## 遍历"
   ]
  },
  {
   "cell_type": "code",
   "execution_count": 30,
   "metadata": {
    "ExecuteTime": {
     "end_time": "2019-08-22T02:24:37.014551Z",
     "start_time": "2019-08-22T02:24:37.007541Z"
    },
    "collapsed": true
   },
   "outputs": [
    {
     "name": "stdout",
     "output_type": "stream",
     "text": [
      "<li class=\"item-0 active\"><a href=\"link3.html\"><span class=\"bold\">third item</span></a></li>\n",
      "             \n",
      "<class 'generator'>\n",
      "<class 'pyquery.pyquery.PyQuery'>\n",
      "<li class=\"item-0\">first item</li>\n",
      "             \n",
      "<class 'pyquery.pyquery.PyQuery'>\n",
      "<li class=\"item-1\"><a href=\"link2.html\">second item</a></li>\n",
      "             \n",
      "<class 'pyquery.pyquery.PyQuery'>\n",
      "<li class=\"item-0 active\"><a href=\"link3.html\"><span class=\"bold\">third item</span></a></li>\n",
      "             \n",
      "<class 'pyquery.pyquery.PyQuery'>\n",
      "<li class=\"item-1 active\"><a href=\"link4.html\">fourth item</a></li>\n",
      "             \n",
      "<class 'pyquery.pyquery.PyQuery'>\n",
      "<li class=\"item-0\"><a href=\"link5.html\">fifth item</a></li>\n",
      "         \n"
     ]
    }
   ],
   "source": [
    "# 单个元素\n",
    "from pyquery import PyQuery as pq\n",
    "html = '''\n",
    "<div class=\"wrap\">\n",
    "    <div id=\"container\">\n",
    "        <ul class=\"list\">\n",
    "             <li class=\"item-0\">first item</li>\n",
    "             <li class=\"item-1\"><a href=\"link2.html\">second item</a></li>\n",
    "             <li class=\"item-0 active\"><a href=\"link3.html\"><span class=\"bold\">third item</span></a></li>\n",
    "             <li class=\"item-1 active\"><a href=\"link4.html\">fourth item</a></li>\n",
    "             <li class=\"item-0\"><a href=\"link5.html\">fifth item</a></li>\n",
    "         </ul>\n",
    "     </div>\n",
    "</div>\n",
    "'''\n",
    "doc = pq(html)\n",
    "li = doc('.item-0.active')  #表示两个类标签\n",
    "print(li)\n",
    "\n",
    "lis = doc('li').items()\n",
    "print(type(lis))\n",
    "for li in lis:\n",
    "    print(type(li))\n",
    "    print(li)\n",
    "\n",
    "# 运行结果如下：从结果中我们可以看出通过items()可以得到一个生成器，并且我们通过for循环得到的每个元素依然是一个pyquery对象。"
   ]
  },
  {
   "cell_type": "markdown",
   "metadata": {},
   "source": [
    "## 获取信息"
   ]
  },
  {
   "cell_type": "code",
   "execution_count": 31,
   "metadata": {
    "ExecuteTime": {
     "end_time": "2019-08-22T02:27:10.774230Z",
     "start_time": "2019-08-22T02:27:10.767250Z"
    },
    "collapsed": true
   },
   "outputs": [
    {
     "name": "stdout",
     "output_type": "stream",
     "text": [
      "<a href=\"link3.html\"><span class=\"bold\">third item</span></a>\n",
      "link3.html\n",
      "link3.html\n"
     ]
    }
   ],
   "source": [
    "# 获取属性\n",
    "# pyquery对象.attr(属性名)\n",
    "# pyquery对象.attr.属性名\n",
    "\n",
    "from pyquery import PyQuery as pq\n",
    "html = '''\n",
    "<div class=\"wrap\">\n",
    "    <div id=\"container\">\n",
    "        <ul class=\"list\">\n",
    "             <li class=\"item-0\">first item</li>\n",
    "             <li class=\"item-1\"><a href=\"link2.html\">second item</a></li>\n",
    "             <li class=\"item-0 active\"><a href=\"link3.html\"><span class=\"bold\">third item</span></a></li>\n",
    "             <li class=\"item-1 active\"><a href=\"link4.html\">fourth item</a></li>\n",
    "             <li class=\"item-0\"><a href=\"link5.html\">fifth item</a></li>\n",
    "         </ul>\n",
    "     </div>\n",
    " </div>\n",
    "'''\n",
    "doc = pq(html)\n",
    "a = doc('.item-0.active a')\n",
    "print(a)\n",
    "print(a.attr('href'))\n",
    "print(a.attr.href)\n",
    "# 所以这里我们也可以知道获得属性值的时候可以直接a.attr(属性名)或者a.attr.属性名"
   ]
  },
  {
   "cell_type": "code",
   "execution_count": 32,
   "metadata": {
    "ExecuteTime": {
     "end_time": "2019-08-22T02:29:26.775482Z",
     "start_time": "2019-08-22T02:29:26.769497Z"
    },
    "collapsed": true
   },
   "outputs": [
    {
     "name": "stdout",
     "output_type": "stream",
     "text": [
      "<a href=\"link3.html\"><span class=\"bold\">third item</span></a>\n",
      "third item\n"
     ]
    }
   ],
   "source": [
    "# 获取文本\n",
    "# 在很多时候我们是需要获取被html标签包含的文本信息,通过.text()就可以获取文本信息\n",
    "\n",
    "from pyquery import PyQuery as pq\n",
    "html = '''\n",
    "<div class=\"wrap\">\n",
    "    <div id=\"container\">\n",
    "        <ul class=\"list\">\n",
    "             <li class=\"item-0\">first item</li>\n",
    "             <li class=\"item-1\"><a href=\"link2.html\">second item</a></li>\n",
    "             <li class=\"item-0 active\"><a href=\"link3.html\"><span class=\"bold\">third item</span></a></li>\n",
    "             <li class=\"item-1 active\"><a href=\"link4.html\">fourth item</a></li>\n",
    "             <li class=\"item-0\"><a href=\"link5.html\">fifth item</a></li>\n",
    "         </ul>\n",
    "     </div>\n",
    " </div>\n",
    "'''\n",
    "doc = pq(html)\n",
    "a = doc('.item-0.active a')\n",
    "print(a)\n",
    "print(a.text())"
   ]
  },
  {
   "cell_type": "code",
   "execution_count": 33,
   "metadata": {
    "ExecuteTime": {
     "end_time": "2019-08-22T02:33:09.967395Z",
     "start_time": "2019-08-22T02:33:09.962410Z"
    },
    "collapsed": true
   },
   "outputs": [
    {
     "name": "stdout",
     "output_type": "stream",
     "text": [
      "<li class=\"item-0 active\"><a href=\"link3.html\"><span class=\"bold\">third item</span></a></li>\n",
      "             \n",
      "<a href=\"link3.html\"><span class=\"bold\">third item</span></a>\n"
     ]
    }
   ],
   "source": [
    "# 获取html\n",
    "# 我们通过.html()的方式可以获取当前标签所包含的html信息，例子如下：\n",
    "from pyquery import PyQuery as pq\n",
    "html = '''\n",
    "<div class=\"wrap\">\n",
    "    <div id=\"container\">\n",
    "        <ul class=\"list\">\n",
    "             <li class=\"item-0\">first item</li>\n",
    "             <li class=\"item-1\"><a href=\"link2.html\">second item</a></li>\n",
    "             <li class=\"item-0 active\"><a href=\"link3.html\"><span class=\"bold\">third item</span></a></li>\n",
    "             <li class=\"item-1 active\"><a href=\"link4.html\">fourth item</a></li>\n",
    "             <li class=\"item-0\"><a href=\"link5.html\">fifth item</a></li>\n",
    "         </ul>\n",
    "     </div>\n",
    " </div>\n",
    "'''\n",
    "doc = pq(html)\n",
    "li = doc('.item-0.active')\n",
    "print(li)\n",
    "print(li.html())"
   ]
  },
  {
   "cell_type": "markdown",
   "metadata": {},
   "source": [
    "## DOM操作 "
   ]
  },
  {
   "cell_type": "code",
   "execution_count": 34,
   "metadata": {
    "ExecuteTime": {
     "end_time": "2019-08-22T02:38:59.434032Z",
     "start_time": "2019-08-22T02:38:59.427051Z"
    },
    "collapsed": true
   },
   "outputs": [
    {
     "name": "stdout",
     "output_type": "stream",
     "text": [
      "<li class=\"item-0 active\"><a href=\"link3.html\"><span class=\"bold\">third item</span></a></li>\n",
      "             \n",
      "<li class=\"item-0\"><a href=\"link3.html\"><span class=\"bold\">third item</span></a></li>\n",
      "             \n",
      "<li class=\"item-0 active\"><a href=\"link3.html\"><span class=\"bold\">third item</span></a></li>\n",
      "             \n"
     ]
    }
   ],
   "source": [
    "# addClass、removeClass\n",
    "# 熟悉前端操作的话，通过这两个操作可以添加和删除属性\n",
    "\n",
    "from pyquery import PyQuery as pq\n",
    "html = '''\n",
    "<div class=\"wrap\">\n",
    "    <div id=\"container\">\n",
    "        <ul class=\"list\">\n",
    "             <li class=\"item-0\">first item</li>\n",
    "             <li class=\"item-1\"><a href=\"link2.html\">second item</a></li>\n",
    "             <li class=\"item-0 active\"><a href=\"link3.html\"><span class=\"bold\">third item</span></a></li>\n",
    "             <li class=\"item-1 active\"><a href=\"link4.html\">fourth item</a></li>\n",
    "             <li class=\"item-0\"><a href=\"link5.html\">fifth item</a></li>\n",
    "         </ul>\n",
    "     </div>\n",
    " </div>\n",
    "'''\n",
    "doc = pq(html)\n",
    "li = doc('.item-0.active')\n",
    "print(li)\n",
    "li.removeClass('active')\n",
    "print(li)\n",
    "li.addClass('active')\n",
    "print(li)"
   ]
  },
  {
   "cell_type": "code",
   "execution_count": 35,
   "metadata": {
    "ExecuteTime": {
     "end_time": "2019-08-22T02:40:34.334398Z",
     "start_time": "2019-08-22T02:40:34.328421Z"
    },
    "collapsed": true
   },
   "outputs": [
    {
     "name": "stdout",
     "output_type": "stream",
     "text": [
      "<li class=\"item-0 active\"><a href=\"link3.html\"><span class=\"bold\">third item</span></a></li>\n",
      "             \n",
      "<li class=\"item-0 active\" name=\"link\"><a href=\"link3.html\"><span class=\"bold\">third item</span></a></li>\n",
      "             \n",
      "<li class=\"item-0 active\" name=\"link\" style=\"font-size: 14px\"><a href=\"link3.html\"><span class=\"bold\">third item</span></a></li>\n",
      "             \n"
     ]
    }
   ],
   "source": [
    "# attr,css\n",
    "# 同样的我们可以通过attr给标签添加和修改属性，\n",
    "# 如果之前没有该属性则是添加，如果有则是修改\n",
    "# 我们也可以通过css添加一些css属性，这个时候，标签的属性里会多一个style属性\n",
    "\n",
    "from pyquery import PyQuery as pq\n",
    "html = '''\n",
    "<div class=\"wrap\">\n",
    "    <div id=\"container\">\n",
    "        <ul class=\"list\">\n",
    "             <li class=\"item-0\">first item</li>\n",
    "             <li class=\"item-1\"><a href=\"link2.html\">second item</a></li>\n",
    "             <li class=\"item-0 active\"><a href=\"link3.html\"><span class=\"bold\">third item</span></a></li>\n",
    "             <li class=\"item-1 active\"><a href=\"link4.html\">fourth item</a></li>\n",
    "             <li class=\"item-0\"><a href=\"link5.html\">fifth item</a></li>\n",
    "         </ul>\n",
    "     </div>\n",
    " </div>\n",
    "'''\n",
    "doc = pq(html)\n",
    "li = doc('.item-0.active')\n",
    "print(li)\n",
    "li.attr('name', 'link')\n",
    "print(li)\n",
    "li.css('font-size', '14px')\n",
    "print(li)"
   ]
  },
  {
   "cell_type": "code",
   "execution_count": 38,
   "metadata": {
    "ExecuteTime": {
     "end_time": "2019-08-22T02:43:09.119694Z",
     "start_time": "2019-08-22T02:43:09.114732Z"
    },
    "collapsed": true
   },
   "outputs": [
    {
     "name": "stdout",
     "output_type": "stream",
     "text": [
      "Hello, World\n",
      "This is a paragraph.\n",
      "Hello, World\n"
     ]
    }
   ],
   "source": [
    "# remove\n",
    "# 有时候我们获取文本信息的时候可能并列的会有一些其他标签干扰，这个时候通过remove就可以将无用的或者干扰的标签直接删除，从而方便操作\n",
    "\n",
    "from pyquery import PyQuery as pq\n",
    "html = '''\n",
    "<div class=\"wrap\">\n",
    "    Hello, World\n",
    "    <p>This is a paragraph.</p>\n",
    " </div>\n",
    "'''\n",
    "doc = pq(html)\n",
    "wrap = doc('.wrap')\n",
    "print(wrap.text())\n",
    "wrap.find('p').remove()\n",
    "print(wrap.text())"
   ]
  },
  {
   "cell_type": "code",
   "execution_count": 53,
   "metadata": {
    "ExecuteTime": {
     "end_time": "2019-08-22T02:57:37.865297Z",
     "start_time": "2019-08-22T02:57:37.852306Z"
    },
    "collapsed": true
   },
   "outputs": [
    {
     "name": "stdout",
     "output_type": "stream",
     "text": [
      "0 <ul class=\"list\">\n",
      "             <li class=\"item-0\">first item</li>\n",
      "             <li class=\"item-1\"><a href=\"link2.html\">second item</a></li>\n",
      "             <li class=\"item-0 active\"><a href=\"link3.html\"><span class=\"bold\">third item</span></a></li>\n",
      "             <li class=\"item-1 active\"><a href=\"link4.html\">fourth item</a></li>\n",
      "             <li class=\"item-0\"><a href=\"link5.html\">fifth item</a></li>\n",
      "         </ul>\n",
      "     \n",
      "1 <li class=\"item-0\">first item</li>\n",
      "             \n",
      "2 <li class=\"item-0\"><a href=\"link5.html\">fifth item</a></li>\n",
      "         \n",
      "3 <li class=\"item-1\"><a href=\"link2.html\">second item</a></li>\n",
      "             \n",
      "4 <li class=\"item-1\"><a href=\"link2.html\">second item</a></li>\n",
      "             <li class=\"item-1 active\"><a href=\"link4.html\">fourth item</a></li>\n",
      "             \n",
      "5 <li class=\"item-0\"><a href=\"link5.html\">fifth item</a></li>\n",
      "         \n",
      "6 <li class=\"item-0\">first item</li>\n",
      "             <li class=\"item-1\"><a href=\"link2.html\">second item</a></li>\n",
      "             <li class=\"item-0 active\"><a href=\"link3.html\"><span class=\"bold\">third item</span></a></li>\n",
      "             <li class=\"item-1 active\"><a href=\"link4.html\">fourth item</a></li>\n",
      "             <li class=\"item-0\"><a href=\"link5.html\">fifth item</a></li>\n",
      "         \n"
     ]
    }
   ],
   "source": [
    "from pyquery import PyQuery as pq\n",
    "html = '''\n",
    "<div class=\"wrap\">\n",
    "    <div id=\"container\">\n",
    "        <ul class=\"list\">\n",
    "             <li class=\"item-0\">first item</li>\n",
    "             <li class=\"item-1\"><a href=\"link2.html\">second item</a></li>\n",
    "             <li class=\"item-0 active\"><a href=\"link3.html\"><span class=\"bold\">third item</span></a></li>\n",
    "             <li class=\"item-1 active\"><a href=\"link4.html\">fourth item</a></li>\n",
    "             <li class=\"item-0\"><a href=\"link5.html\">fifth item</a></li>\n",
    "         </ul>\n",
    "     </div>\n",
    " </div>\n",
    "'''\n",
    "doc = pq(html)\n",
    "li = doc('.list')\n",
    "print(\"0\", li)\n",
    "li = doc(\"li:first_child\")\n",
    "print(\"1\", li)\n",
    "li = doc(\"li:last_child\")\n",
    "print(\"2\", li)\n",
    "li = doc(\"li:nth_child(2)\")\n",
    "print(\"3\", li)\n",
    "li = doc(\"li:nth_child(2n)\")\n",
    "print(\"4\", li)\n",
    "li = doc(\"li:gt(2)\")   #????获取序号比二大的，序号是从0开始的\n",
    "print(\"5\", li)\n",
    "li = doc(\"li:contains(item)\")\n",
    "print(\"6\", li)"
   ]
  }
 ],
 "metadata": {
  "kernelspec": {
   "display_name": "Python 3",
   "language": "python",
   "name": "python3"
  },
  "language_info": {
   "codemirror_mode": {
    "name": "ipython",
    "version": 3
   },
   "file_extension": ".py",
   "mimetype": "text/x-python",
   "name": "python",
   "nbconvert_exporter": "python",
   "pygments_lexer": "ipython3",
   "version": "3.6.5"
  },
  "toc": {
   "base_numbering": 1,
   "nav_menu": {},
   "number_sections": true,
   "sideBar": true,
   "skip_h1_title": false,
   "title_cell": "Table of Contents",
   "title_sidebar": "Contents",
   "toc_cell": false,
   "toc_position": {},
   "toc_section_display": true,
   "toc_window_display": false
  }
 },
 "nbformat": 4,
 "nbformat_minor": 2
}
