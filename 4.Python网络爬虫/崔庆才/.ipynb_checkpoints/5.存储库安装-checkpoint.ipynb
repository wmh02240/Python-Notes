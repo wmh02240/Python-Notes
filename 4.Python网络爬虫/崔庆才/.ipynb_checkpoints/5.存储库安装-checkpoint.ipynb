{
 "cells": [
  {
   "cell_type": "markdown",
   "metadata": {},
   "source": [
    "#### 存储库的安装\n",
    "    上一节我们介绍了几个数据库的安装方式，但这仅仅是用来存储数据的数据库，它们提供了存储服务，但如果想要和 Python 交互的话，还需要安装一些 Python 存储库，如 MySQL 需要安装 PyMySQL，MongoDB 需要安装 PyMongo 等。"
   ]
  },
  {
   "cell_type": "markdown",
   "metadata": {},
   "source": [
    "#### 1.PyMySQL的安装\n",
    "    \n",
    "    在 Python 3 中，如果想要将数据存储到 MySQL 中，就需要借助 PyMySQL来操作。\n",
    "    \n",
    "    GitHub：https://github.com/PyMySQL/PyMySQL\n",
    "    官方文档：http://pymysql.readthedocs.io/\n",
    "    PyPI：https://pypi.python.org/pypi/PyMySQL\n",
    "    \n",
    "    安装：pip install pymysql"
   ]
  },
  {
   "cell_type": "code",
   "execution_count": 2,
   "metadata": {},
   "outputs": [
    {
     "data": {
      "text/plain": [
       "(0, 9, 3, None)"
      ]
     },
     "execution_count": 2,
     "metadata": {},
     "output_type": "execute_result"
    }
   ],
   "source": [
    "import pymysql\n",
    "pymysql.VERSION"
   ]
  },
  {
   "cell_type": "markdown",
   "metadata": {},
   "source": [
    "#### 2.PyMongo 的安装\n",
    "    在 Python 中，如果想要和 MongoDB 进行交互，就需要借助于 PyMongo 库，这里就来了解一下它的安装方法。\n",
    "\n",
    "    GitHub：https://github.com/mongodb/mongo-python-driver\n",
    "    官方文档：https://api.mongodb.com/python/current/\n",
    "    PyPI：https://pypi.python.org/pypi/pymongo\n",
    "    \n",
    "    安装：pip install pymongo"
   ]
  },
  {
   "cell_type": "code",
   "execution_count": 3,
   "metadata": {},
   "outputs": [
    {
     "data": {
      "text/plain": [
       "'3.10.1'"
      ]
     },
     "execution_count": 3,
     "metadata": {},
     "output_type": "execute_result"
    }
   ],
   "source": [
    "import pymongo\n",
    "pymongo.version"
   ]
  },
  {
   "cell_type": "markdown",
   "metadata": {},
   "source": [
    "#### 3.redis-py 的安装\n",
    "    对于 Redis 来说，我们要使用 redis-py 库来与其交互。\n",
    "    \n",
    "    安装：pip install redis"
   ]
  },
  {
   "cell_type": "code",
   "execution_count": null,
   "metadata": {},
   "outputs": [],
   "source": [
    "import redis\n",
    "redis.VERSION"
   ]
  },
  {
   "cell_type": "markdown",
   "metadata": {},
   "source": [
    "#### 4.RedisDump 的安装\n",
    "    RedisDump 是一个用于 Redis 数据导入 / 导出的工具，是基于 Ruby 实现的，所以要安装 RedisDump，需要先安装 Ruby。\n",
    "    \n",
    "    GitHub：https://github.com/delano/redis-dump\n",
    "    官方文档：http://delanotes.com/redis-dump\n",
    "    \n",
    "    Ruby安装：有关 Ruby 的安装方式可以参考 http://www.ruby-lang.org/zh_cn/documentation/installation，这里列出了所有平台的所有安装方式，可以根据对应的平台选用合适的安装方式。\n",
    "    gem安装：安装完成之后，就可以执行 gem 命令了，它类似于 Python 中的 pip 命令。利用 gem 命令，我们可以安装 RedisDump。\n",
    "    gem install redis-dump  \n",
    "    执行完毕之后，即可完成 RedisDump 的安装。\n",
    "\n",
    "\n",
    "    验证安装：安装成功后，就可以执行如下两个命令：\n",
    "        redis-dump  \n",
    "        redis-load\n",
    "    如果可以成功调用，则证明安装成功。"
   ]
  }
 ],
 "metadata": {
  "kernelspec": {
   "display_name": "Python 3.7.4 64-bit ('base': conda)",
   "language": "python",
   "name": "python37464bitbaseconda6107b79217b94e219b4f88edebad3871"
  },
  "language_info": {
   "codemirror_mode": {
    "name": "ipython",
    "version": 3
   },
   "file_extension": ".py",
   "mimetype": "text/x-python",
   "name": "python",
   "nbconvert_exporter": "python",
   "pygments_lexer": "ipython3",
   "version": "3.7.4"
  }
 },
 "nbformat": 4,
 "nbformat_minor": 4
}
