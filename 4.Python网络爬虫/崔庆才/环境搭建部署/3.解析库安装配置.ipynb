{
 "cells": [
  {
   "cell_type": "markdown",
   "metadata": {},
   "source": [
    "#### 一.解析库的安装\n",
    "抓取网页代码之后，下一步就是从网页中提取信息。提取信息的方式有多种多样，可以使用正则来提取，但是写起来相对比较烦琐。这里还有许多强大的解析库，如 lxml、Beautiful Soup、pyquery 等。此外，还提供了非常强大的解析方法，如 XPath 解析和 CSS 选择器解析等，利用它们，我们可以高效便捷地从网页中提取有效信息。"
   ]
  },
  {
   "cell_type": "markdown",
   "metadata": {},
   "source": [
    "##### 1.lxml 的安装:\n",
    "    lxml 是 Python 的一个解析库，支持 HTML 和 XML 的解析，支持 XPath 解析方式，而且解析效率非常高。\n",
    "    官方网站：http://lxml.de\n",
    "    GitHub：https://github.com/lxml/lxml\n",
    "    PyPI：https://pypi.python.org/pypi/lxml\n",
    "    \n",
    "    安装: pip install lxml\n",
    "    import lxml 没报错即安装成功"
   ]
  },
  {
   "cell_type": "markdown",
   "metadata": {},
   "source": [
    "2.Beautiful Soup 的安装:\n",
    "\n",
    "    Beautiful Soup 是 Python 的一个 HTML 或 XML 的解析库，我们可以用它来方便地从网页中提取数据。它拥有强大的 API 和多样的解析方式，Beautiful Soup 的 HTML 和 XML 解析器是依赖于     lxml库的，所以在此之前请确保已经成功安装好了 lxml 库。\n",
    "    官方文档：https://www.crummy.com/software/BeautifulSoup/bs4/doc\n",
    "    中文文档：https://www.crummy.com/software/BeautifulSoup/bs4/doc.zh\n",
    "    PyPI：https://pypi.python.org/pypi/beautifulsoup4\n",
    "    \n",
    "    安装：pip install beautifulsoup4\n",
    "    注意：这里我们虽然安装的是 beautifulsoup4 这个包，但是在引入的时候却是 bs4。这是因为这个包源代码本身的库文件夹名称就是 bs4，所以安装完成之后，这个库文件夹就被移入到本机 Python3     的 lib 库里，所以识别到的库文件名就叫作 bs4。\n"
   ]
  },
  {
   "cell_type": "code",
   "execution_count": 3,
   "metadata": {},
   "outputs": [
    {
     "name": "stdout",
     "output_type": "stream",
     "text": [
      "<p>Hello</p>\n"
     ]
    }
   ],
   "source": [
    "from bs4 import BeautifulSoup  \n",
    "soup = BeautifulSoup('&lt;p&gt;Hello&lt;/p&gt;', 'lxml')  \n",
    "print(soup.p.string)\n",
    "\n",
    "# 若执行结果为hello则安装正常"
   ]
  },
  {
   "cell_type": "markdown",
   "metadata": {},
   "source": [
    "3.pyquery的安装:\n",
    "\n",
    "    pyquery 同样是一个强大的网页解析工具，它提供了和 jQuery 类似的语法来解析 HTML 文档，支持 CSS 选择器，使用非常方便。\n",
    "    GitHub：https://github.com/gawel/pyquery\n",
    "    PyPI：https://pypi.python.org/pypi/pyquery\n",
    "    官方文档：http://pyquery.readthedocs.io\n",
    "    \n",
    "    安装：pip install pyquery\n",
    "    "
   ]
  },
  {
   "cell_type": "code",
   "execution_count": 4,
   "metadata": {},
   "outputs": [],
   "source": [
    "import pyquery"
   ]
  },
  {
   "cell_type": "markdown",
   "metadata": {},
   "source": [
    "4.tesserocr的安装:\n",
    "\n",
    "    在爬虫过程中，难免会遇到各种各样的验证码，而大多数验证码还是图形验证码，这时候我们可以直接用 OCR 来识别。OCR，即 Optical Character Recognition，光学字符识别，是指通过扫描字符，     然后通过其形状将其翻译成电子文本的过程。对于图形验证码来说，它们都是一些不规则的字符，这些字符确实是由字符稍加扭曲变换得到的内容。\n",
    "    tesserocr 是 Python 的一个 OCR 识别库，但其实是对 tesseract 做的一层 Python API 封装，所以它的核心是 tesseract。因此，在安装 tesserocr 之前，我们需要先安装 tesseract。\n",
    "    \n",
    "    tesserocr GitHub：https://github.com/sirfz/tesserocr\n",
    "    tesserocr PyPI：https://pypi.python.org/pypi/tesserocr\n",
    "    tesseract 下载地址：http://digi.bib.uni-mannheim.de/tesseract\n",
    "    tesseract GitHub：https://github.com/tesseract-ocr/tesseract\n",
    "    tesseract 语言包：https://github.com/tesseract-ocr/tessdata\n",
    "    tesseract 文档：https://github.com/tesseract-ocr/tesseract/wiki/Documentation\n",
    "    \n",
    "    安装：\n",
    "    在 Ubuntu、Debian 和 Deepin 系统下，安装命令如下：\n",
    "    sudo apt-get install -y tesseract-ocr libtesseract-dev libleptonica-dev\n",
    "    安装完成后，便可以调用 tesseract 命令了。\n",
    "    \n",
    "    接着，我们查看一下其支持的语言：\n",
    "    tesseract --list-langs\n",
    "    List of available languages (2):\n",
    "    eng\n",
    "    osd\n",
    "    \n",
    "    结果显示它只支持几种语言，如果想要安装多国语言，还需要安装语言包，官方叫作 tessdata，其下载链接为：：https://github.com/tesseract-ocr/tessdata。\n",
    "    利用 Git 命令将其下载下来并迁移到相关目录即可，不同版本的迁移命令如下所示。\n",
    "    在 Ubuntu、Debian 和 Deepin 系统下的迁移命令如下：\n",
    "    git clone https://github.com/tesseract-ocr/tessdata.git  \n",
    "    sudo mv tessdata/* /usr/share/tesseract-ocr/tessdata\n",
    "\n",
    "    安装：pip install tesserocr pillow\n",
    "    \n",
    "    验证：首先用命令行进行测试，将图片下载下来并保存为 image.png，然后用 tesseract 命令测试：\n",
    "    tesseract image.png result -l eng && cat result.txt\n",
    "    运行结果如下:\n",
    "    Tesseract Open Source OCR Engine v3.05.01 with Leptonica  \n",
    "    Python3WebSpider\n",
    "\n",
    "    这里我们调用了 tesseract 命令，其中第一个参数为图片名称，第二个参数 result 为结果保存的目标文件名称，-l 指定使用的语言包，在此使用英文（eng）。然后，再用 cat 命令将结果输出。运行结果便是图片的识别结果：Python3WebSpider。可以看到，这时已经成功将图片文字转为电子文本了。"
   ]
  },
  {
   "cell_type": "code",
   "execution_count": 6,
   "metadata": {},
   "outputs": [
    {
     "name": "stdout",
     "output_type": "stream",
     "text": [
      "Python3WebSpider\n",
      "\n"
     ]
    }
   ],
   "source": [
    "# 还可以利用 Python 代码来测试，这里就需要借助于 tesserocr 库了，测试代码如下：\n",
    "import tesserocr  \n",
    "from PIL import Image  \n",
    "image = Image.open('image.png')  \n",
    "print(tesserocr.image_to_text(image))"
   ]
  },
  {
   "cell_type": "code",
   "execution_count": 7,
   "metadata": {},
   "outputs": [
    {
     "name": "stdout",
     "output_type": "stream",
     "text": [
      "Python3WebSpider\n",
      "\n"
     ]
    }
   ],
   "source": [
    "# 另外，我们还可以直接调用 file_to_text 方法，这可以达到同样的效果：\n",
    "import tesserocr  \n",
    "print(tesserocr.file_to_text('image.png'))"
   ]
  }
 ],
 "metadata": {
  "kernelspec": {
   "display_name": "Python 3.7.4 64-bit ('base': conda)",
   "language": "python",
   "name": "python37464bitbaseconda6107b79217b94e219b4f88edebad3871"
  },
  "language_info": {
   "codemirror_mode": {
    "name": "ipython",
    "version": 3
   },
   "file_extension": ".py",
   "mimetype": "text/x-python",
   "name": "python",
   "nbconvert_exporter": "python",
   "pygments_lexer": "ipython3",
   "version": "3.7.4"
  }
 },
 "nbformat": 4,
 "nbformat_minor": 4
}
