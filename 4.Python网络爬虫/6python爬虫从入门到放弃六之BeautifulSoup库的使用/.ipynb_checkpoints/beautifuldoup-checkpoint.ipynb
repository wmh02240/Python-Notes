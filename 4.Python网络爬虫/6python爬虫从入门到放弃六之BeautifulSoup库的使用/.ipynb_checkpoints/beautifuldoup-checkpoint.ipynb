{
 "cells": [
  {
   "cell_type": "code",
   "execution_count": 8,
   "metadata": {
    "ExecuteTime": {
     "end_time": "2019-08-21T13:22:15.236575Z",
     "start_time": "2019-08-21T13:22:15.218595Z"
    },
    "collapsed": true
   },
   "outputs": [
    {
     "name": "stdout",
     "output_type": "stream",
     "text": [
      "2 <title>The Dormouse's story</title>\n",
      "<class 'bs4.element.Tag'>\n",
      "3 title\n",
      "4 The Dormouse's story\n",
      "5 head\n",
      "6 <p class=\"title\"><b>The Dormouse's story</b></p>\n",
      "7 ['title']\n",
      "77 ['title']\n",
      "8 <a class=\"sister\" href=\"http://example.com/elsie\" id=\"link1\">Elsie</a>\n",
      "9 [<a class=\"sister\" href=\"http://example.com/elsie\" id=\"link1\">Elsie</a>, <a class=\"sister\" href=\"http://example.com/lacie\" id=\"link2\">Lacie</a>, <a class=\"sister\" href=\"http://example.com/tillie\" id=\"link3\">Tillie</a>]\n",
      "10 <a class=\"sister\" href=\"http://example.com/tillie\" id=\"link3\">Tillie</a>\n",
      "The Dormouse's story\n"
     ]
    }
   ],
   "source": [
    "from bs4 import BeautifulSoup\n",
    "\n",
    "html = '''\n",
    "        <html><head><title>The Dormouse's story</title></head>\n",
    "        <body>\n",
    "        <p class=\"title\"><b>The Dormouse's story</b></p>\n",
    "        <p class=\"story\">Once upon a time there were three little sisters; and their names were\n",
    "        <a href=\"http://example.com/elsie\" class=\"sister\" id=\"link1\">Elsie</a>,\n",
    "        <a href=\"http://example.com/lacie\" class=\"sister\" id=\"link2\">Lacie</a> and\n",
    "        <a href=\"http://example.com/tillie\" class=\"sister\" id=\"link3\">Tillie</a>;\n",
    "        and they lived at the bottom of a well.</p>\n",
    "        <p class=\"story\">...</p>\n",
    "       '''\n",
    "soup = BeautifulSoup(html,'lxml')  #对象BeautifulSoup   soup是实例？实例化？\n",
    "# print(\"1\",soup.prettify())             #下面的都是一些方法  .prettify()：格式化代码 自动将代码补全\n",
    "print(\"2\",soup.title) #通过这种soup.标签名 我们就可以获得这个标签的内容\n",
    "print(type(soup.title))\n",
    "print(\"3\",soup.title.name)  #获取标签名称\n",
    "\n",
    "print(\"4\",soup.title.string) #获取标签内容\n",
    "print(\"5\",soup.title.parent.name)  #获取父标签名称\n",
    "\n",
    "print(\"6\",soup.p)\n",
    "print(\"7\",soup.p[\"class\"])  #只获取第一个标签   获取属性\n",
    "print(\"77\",soup.p.attrs[\"class\"])\n",
    "\n",
    "print(\"8\",soup.a)\n",
    "print(\"9\",soup.find_all('a'))\n",
    "print(\"10\",soup.find(id='link3'))\n",
    "\n",
    "print(soup.head.title.string) #嵌套选择"
   ]
  },
  {
   "cell_type": "code",
   "execution_count": 13,
   "metadata": {
    "ExecuteTime": {
     "end_time": "2019-08-21T13:37:59.977617Z",
     "start_time": "2019-08-21T13:37:59.959608Z"
    },
    "collapsed": true
   },
   "outputs": [
    {
     "name": "stdout",
     "output_type": "stream",
     "text": [
      "['\\n                    Once upon a time there were three little sisters; and their names were\\n                    ', <a class=\"sister\" href=\"http://example.com/elsie\" id=\"link1\">\n",
      "<span>Elsie</span>\n",
      "</a>, '\\n', <a class=\"sister\" href=\"http://example.com/lacie\" id=\"link2\">Lacie</a>, '\\n                    and\\n                    ', <a class=\"sister\" href=\"http://example.com/tillie\" id=\"link3\">Tillie</a>, '\\n                    and they lived at the bottom of a well.\\n                ']\n",
      "<list_iterator object at 0x000001E3C9CA8470>\n",
      "0 \n",
      "                    Once upon a time there were three little sisters; and their names were\n",
      "                    \n",
      "1 <a class=\"sister\" href=\"http://example.com/elsie\" id=\"link1\">\n",
      "<span>Elsie</span>\n",
      "</a>\n",
      "2 \n",
      "\n",
      "3 <a class=\"sister\" href=\"http://example.com/lacie\" id=\"link2\">Lacie</a>\n",
      "4 \n",
      "                    and\n",
      "                    \n",
      "5 <a class=\"sister\" href=\"http://example.com/tillie\" id=\"link3\">Tillie</a>\n",
      "6 \n",
      "                    and they lived at the bottom of a well.\n",
      "                \n",
      "0 \n",
      "                    Once upon a time there were three little sisters; and their names were\n",
      "                    \n",
      "1 <a class=\"sister\" href=\"http://example.com/elsie\" id=\"link1\">\n",
      "<span>Elsie</span>\n",
      "</a>\n",
      "2 \n",
      "\n",
      "3 <span>Elsie</span>\n",
      "4 Elsie\n",
      "5 \n",
      "\n",
      "6 \n",
      "\n",
      "7 <a class=\"sister\" href=\"http://example.com/lacie\" id=\"link2\">Lacie</a>\n",
      "8 Lacie\n",
      "9 \n",
      "                    and\n",
      "                    \n",
      "10 <a class=\"sister\" href=\"http://example.com/tillie\" id=\"link3\">Tillie</a>\n",
      "11 Tillie\n",
      "12 \n",
      "                    and they lived at the bottom of a well.\n",
      "                \n"
     ]
    }
   ],
   "source": [
    "html = \"\"\"\n",
    "        <html>\n",
    "            <head>\n",
    "                <title>The Dormouse's story</title>\n",
    "            </head>\n",
    "            <body>\n",
    "                <p class=\"story\">\n",
    "                    Once upon a time there were three little sisters; and their names were\n",
    "                    <a href=\"http://example.com/elsie\" class=\"sister\" id=\"link1\">\n",
    "                        <span>Elsie</span>\n",
    "                    </a>\n",
    "                    <a href=\"http://example.com/lacie\" class=\"sister\" id=\"link2\">Lacie</a>\n",
    "                    and\n",
    "                    <a href=\"http://example.com/tillie\" class=\"sister\" id=\"link3\">Tillie</a>\n",
    "                    and they lived at the bottom of a well.\n",
    "                </p>\n",
    "                <p class=\"story\">...</p>\n",
    "        \"\"\"\n",
    "\n",
    "from bs4 import BeautifulSoup\n",
    "\n",
    "soup = BeautifulSoup(html,'lxml')\n",
    "print(soup.p.contents)  #以列表形式返回  .contents返回子节点\n",
    "\n",
    "print(soup.p.children) \n",
    "for index, children in enumerate(soup.p.children):\n",
    "    print(index, children)  #返回形式为迭代器    .children返回子节点\n",
    "    \n",
    "#通过contents以及children都是获取子节点，如果想要获取子孙节点可以通过descendants\n",
    "#print(soup.descendants)同时这种获取的结果也是一个迭代器\n",
    "for index, children in enumerate(soup.p.descendants):\n",
    "    print(index, children)"
   ]
  },
  {
   "cell_type": "code",
   "execution_count": 19,
   "metadata": {
    "ExecuteTime": {
     "end_time": "2019-08-21T13:46:18.035956Z",
     "start_time": "2019-08-21T13:46:18.023927Z"
    },
    "collapsed": true
   },
   "outputs": [
    {
     "name": "stdout",
     "output_type": "stream",
     "text": [
      "<p class=\"story\">\n",
      "                    Once upon a time there were three little sisters; and their names were\n",
      "                    <a class=\"sister\" href=\"http://example.com/elsie\" id=\"link1\">\n",
      "<span>Elsie</span>\n",
      "</a>\n",
      "<a class=\"sister\" href=\"http://example.com/lacie\" id=\"link2\">Lacie</a>\n",
      "                    and\n",
      "                    <a class=\"sister\" href=\"http://example.com/tillie\" id=\"link3\">Tillie</a>\n",
      "                    and they lived at the bottom of a well.\n",
      "                </p>\n",
      "<class 'bs4.element.Tag'>\n",
      "[(0, <p class=\"story\">\n",
      "                    Once upon a time there were three little sisters; and their names were\n",
      "                    <a class=\"sister\" href=\"http://example.com/elsie\" id=\"link1\">\n",
      "<span>Elsie</span>\n",
      "</a>\n",
      "<a class=\"sister\" href=\"http://example.com/lacie\" id=\"link2\">Lacie</a>\n",
      "                    and\n",
      "                    <a class=\"sister\" href=\"http://example.com/tillie\" id=\"link3\">Tillie</a>\n",
      "                    and they lived at the bottom of a well.\n",
      "                </p>), (1, <body>\n",
      "<p class=\"story\">\n",
      "                    Once upon a time there were three little sisters; and their names were\n",
      "                    <a class=\"sister\" href=\"http://example.com/elsie\" id=\"link1\">\n",
      "<span>Elsie</span>\n",
      "</a>\n",
      "<a class=\"sister\" href=\"http://example.com/lacie\" id=\"link2\">Lacie</a>\n",
      "                    and\n",
      "                    <a class=\"sister\" href=\"http://example.com/tillie\" id=\"link3\">Tillie</a>\n",
      "                    and they lived at the bottom of a well.\n",
      "                </p>\n",
      "<p class=\"story\">...</p>\n",
      "</body>), (2, <html>\n",
      "<head>\n",
      "<title>The Dormouse's story</title>\n",
      "</head>\n",
      "<body>\n",
      "<p class=\"story\">\n",
      "                    Once upon a time there were three little sisters; and their names were\n",
      "                    <a class=\"sister\" href=\"http://example.com/elsie\" id=\"link1\">\n",
      "<span>Elsie</span>\n",
      "</a>\n",
      "<a class=\"sister\" href=\"http://example.com/lacie\" id=\"link2\">Lacie</a>\n",
      "                    and\n",
      "                    <a class=\"sister\" href=\"http://example.com/tillie\" id=\"link3\">Tillie</a>\n",
      "                    and they lived at the bottom of a well.\n",
      "                </p>\n",
      "<p class=\"story\">...</p>\n",
      "</body></html>), (3, <html>\n",
      "<head>\n",
      "<title>The Dormouse's story</title>\n",
      "</head>\n",
      "<body>\n",
      "<p class=\"story\">\n",
      "                    Once upon a time there were three little sisters; and their names were\n",
      "                    <a class=\"sister\" href=\"http://example.com/elsie\" id=\"link1\">\n",
      "<span>Elsie</span>\n",
      "</a>\n",
      "<a class=\"sister\" href=\"http://example.com/lacie\" id=\"link2\">Lacie</a>\n",
      "                    and\n",
      "                    <a class=\"sister\" href=\"http://example.com/tillie\" id=\"link3\">Tillie</a>\n",
      "                    and they lived at the bottom of a well.\n",
      "                </p>\n",
      "<p class=\"story\">...</p>\n",
      "</body></html>)]\n",
      "<class 'generator'>\n"
     ]
    }
   ],
   "source": [
    "html = \"\"\"\n",
    "        <html>\n",
    "            <head>\n",
    "                <title>The Dormouse's story</title>\n",
    "            </head>\n",
    "            <body>\n",
    "                <p class=\"story\">\n",
    "                    Once upon a time there were three little sisters; and their names were\n",
    "                    <a href=\"http://example.com/elsie\" class=\"sister\" id=\"link1\">\n",
    "                        <span>Elsie</span>\n",
    "                    </a>\n",
    "                    <a href=\"http://example.com/lacie\" class=\"sister\" id=\"link2\">Lacie</a>\n",
    "                    and\n",
    "                    <a href=\"http://example.com/tillie\" class=\"sister\" id=\"link3\">Tillie</a>\n",
    "                    and they lived at the bottom of a well.\n",
    "                </p>\n",
    "                <p class=\"story\">...</p>\n",
    "        \"\"\"\n",
    "\n",
    "from bs4 import BeautifulSoup\n",
    "\n",
    "soup = BeautifulSoup(html,'lxml')\n",
    "print(soup.a.parent)  #以列表形式返回  .parent返回父节点\n",
    "print(type(soup.a.parent))\n",
    "\n",
    "# 通过list(enumerate(soup.a.parents))可以获取祖先节点，这个方法返回的结果是一个列表，会分别将a标签的父节点的信息存放到列表中，\n",
    "# 以及父节点的父节点也放到列表中，并且最后还会讲整个文档放到列表中，所有列表的最后一个元素以及倒数第二个元素都是存的整个文档的信息\n",
    "print(list(enumerate(soup.a.parents)))  #以列表形式返回  .parents返回祖先节点\n",
    "print(type(soup.a.parents))"
   ]
  },
  {
   "cell_type": "code",
   "execution_count": 24,
   "metadata": {
    "ExecuteTime": {
     "end_time": "2019-08-21T13:57:52.374346Z",
     "start_time": "2019-08-21T13:57:52.362345Z"
    },
    "collapsed": true
   },
   "outputs": [
    {
     "name": "stdout",
     "output_type": "stream",
     "text": [
      "[(0, '\\n'), (1, <a class=\"sister\" href=\"http://example.com/lacie\" id=\"link2\">Lacie</a>), (2, '\\n                    and\\n                    '), (3, <a class=\"sister\" href=\"http://example.com/tillie\" id=\"link3\">Tillie</a>), (4, '\\n                    and they lived at the bottom of a well.\\n                ')]\n",
      "[(0, '\\n                    Once upon a time there were three little sisters; and their names were\\n                    ')]\n"
     ]
    }
   ],
   "source": [
    "# soup.a.next_siblings 获取后面的兄弟节点\n",
    "# soup.a.previous_siblings 获取前面的兄弟节点\n",
    "# soup.a.next_sibling 获取下一个兄弟标签\n",
    "# souo.a.previous_sinbling 获取上一个兄弟标签\n",
    "html = \"\"\"\n",
    "        <html>\n",
    "            <head>\n",
    "                <title>The Dormouse's story</title>\n",
    "            </head>\n",
    "            <body>\n",
    "                <p class=\"story\">\n",
    "                    Once upon a time there were three little sisters; and their names were\n",
    "                    <a href=\"http://example.com/elsie\" class=\"sister\" id=\"link1\">\n",
    "                        <span>Elsie</span>\n",
    "                    </a>\n",
    "                    <a href=\"http://example.com/lacie\" class=\"sister\" id=\"link2\">Lacie</a>\n",
    "                    and\n",
    "                    <a href=\"http://example.com/tillie\" class=\"sister\" id=\"link3\">Tillie</a>\n",
    "                    and they lived at the bottom of a well.\n",
    "                </p>\n",
    "                <p class=\"story\">...</p>\n",
    "        \"\"\"\n",
    "\n",
    "from bs4 import BeautifulSoup\n",
    "\n",
    "soup = BeautifulSoup(html,'lxml')\n",
    "print(list(enumerate(soup.a.next_siblings)))\n",
    "# print(list(enumerate(soup.a.next_sibling)))\n",
    "# print(list(enumerate(soup.a.previous_sibling)))\n",
    "print(list(enumerate(soup.a.previous_siblings)))"
   ]
  },
  {
   "cell_type": "code",
   "execution_count": 26,
   "metadata": {
    "ExecuteTime": {
     "end_time": "2019-08-21T14:02:47.898254Z",
     "start_time": "2019-08-21T14:02:47.888185Z"
    },
    "collapsed": true
   },
   "outputs": [
    {
     "name": "stdout",
     "output_type": "stream",
     "text": [
      "[<ul class=\"list\" id=\"list-1\">\n",
      "<li class=\"element\">Foo</li>\n",
      "<li class=\"element\">Bar</li>\n",
      "<li class=\"element\">Jay</li>\n",
      "</ul>, <ul class=\"list list-small\" id=\"list-2\">\n",
      "<li class=\"element\">Foo</li>\n",
      "<li class=\"element\">Bar</li>\n",
      "</ul>]\n",
      "<class 'bs4.element.Tag'>\n",
      "[<li class=\"element\">Foo</li>, <li class=\"element\">Bar</li>, <li class=\"element\">Jay</li>]\n",
      "[<li class=\"element\">Foo</li>, <li class=\"element\">Bar</li>]\n"
     ]
    }
   ],
   "source": [
    "html='''\n",
    "<div class=\"panel\">\n",
    "    <div class=\"panel-heading\">\n",
    "        <h4>Hello</h4>\n",
    "    </div>\n",
    "    <div class=\"panel-body\">\n",
    "        <ul class=\"list\" id=\"list-1\">\n",
    "            <li class=\"element\">Foo</li>\n",
    "            <li class=\"element\">Bar</li>\n",
    "            <li class=\"element\">Jay</li>\n",
    "        </ul>\n",
    "        <ul class=\"list list-small\" id=\"list-2\">\n",
    "            <li class=\"element\">Foo</li>\n",
    "            <li class=\"element\">Bar</li>\n",
    "        </ul>\n",
    "    </div>\n",
    "</div>\n",
    "'''\n",
    "from bs4 import BeautifulSoup\n",
    "soup = BeautifulSoup(html, 'lxml')\n",
    "print(soup.find_all('ul'))\n",
    "print(type(soup.find_all('ul')[0]))\n",
    "\n",
    "for ul in soup.find_all('ul'):\n",
    "    print(ul.find_all('li'))"
   ]
  },
  {
   "cell_type": "code",
   "execution_count": 45,
   "metadata": {
    "ExecuteTime": {
     "end_time": "2019-08-21T14:18:52.035016Z",
     "start_time": "2019-08-21T14:18:52.022987Z"
    },
    "collapsed": true
   },
   "outputs": [
    {
     "name": "stdout",
     "output_type": "stream",
     "text": [
      "[<ul class=\"list\" id=\"list-1\" name=\"elements\">\n",
      "<li class=\"element\">Foo</li>\n",
      "<li class=\"element\">Bar</li>\n",
      "<li class=\"element\">Jay</li>\n",
      "</ul>]\n",
      "[<ul class=\"list\" id=\"list-1\" name=\"elements\">\n",
      "<li class=\"element\">Foo</li>\n",
      "<li class=\"element\">Bar</li>\n",
      "<li class=\"element\">Jay</li>\n",
      "</ul>]\n",
      "[<ul class=\"list\" id=\"list-1\" name=\"elements\">\n",
      "<li class=\"element\">Foo</li>\n",
      "<li class=\"element\">Bar</li>\n",
      "<li class=\"element\">Jay</li>\n",
      "</ul>]\n",
      "[<li class=\"element\">Foo</li>, <li class=\"element\">Bar</li>, <li class=\"element\">Jay</li>, <li class=\"element\">Foo</li>, <li class=\"element\">Bar</li>]\n"
     ]
    }
   ],
   "source": [
    "html='''\n",
    "<div class=\"panel\">\n",
    "    <div class=\"panel-heading\">\n",
    "        <h4>Hello</h4>\n",
    "    </div>\n",
    "    <div class=\"panel-body\">\n",
    "        <ul class=\"list\" id=\"list-1\" name=\"elements\">\n",
    "            <li class=\"element\">Foo</li>\n",
    "            <li class=\"element\">Bar</li>\n",
    "            <li class=\"element\">Jay</li>\n",
    "        </ul>\n",
    "        <ul class=\"list list-small\" id=\"list-2\">\n",
    "            <li class=\"element\">Foo</li>\n",
    "            <li class=\"element\">Bar</li>\n",
    "        </ul>\n",
    "    </div>\n",
    "</div>\n",
    "'''\n",
    "from bs4 import BeautifulSoup\n",
    "soup = BeautifulSoup(html, 'lxml')\n",
    "print(soup.find_all(attrs={'id': 'list-1'}))\n",
    "print(soup.find_all(id = 'list-1'))\n",
    "print(soup.find_all(attrs={'name': 'elements'}))   #根据一些属性进行查找 以字典的形式 键为属性名 值为属性值\n",
    "print(soup.find_all(class_ = 'element'))\n",
    "# attrs可以传入字典的方式来查找标签，但是这里有个特殊的就是class,因为class在python中是特殊的字段，所以如果想要查找class相关的可以更\n",
    "# 改attrs={'class_':'element'}或者soup.find_all('',{\"class\":\"element})，特殊的标签属性可以不写attrs，例如id"
   ]
  },
  {
   "cell_type": "code",
   "execution_count": 46,
   "metadata": {
    "ExecuteTime": {
     "end_time": "2019-08-21T14:19:48.063098Z",
     "start_time": "2019-08-21T14:19:48.051000Z"
    }
   },
   "outputs": [
    {
     "name": "stdout",
     "output_type": "stream",
     "text": [
      "['Foo', 'Foo']\n"
     ]
    }
   ],
   "source": [
    "html='''\n",
    "<div class=\"panel\">\n",
    "    <div class=\"panel-heading\">\n",
    "        <h4>Hello</h4>\n",
    "    </div>\n",
    "    <div class=\"panel-body\">\n",
    "        <ul class=\"list\" id=\"list-1\">\n",
    "            <li class=\"element\">Foo</li>\n",
    "            <li class=\"element\">Bar</li>\n",
    "            <li class=\"element\">Jay</li>\n",
    "        </ul>\n",
    "        <ul class=\"list list-small\" id=\"list-2\">\n",
    "            <li class=\"element\">Foo</li>\n",
    "            <li class=\"element\">Bar</li>\n",
    "        </ul>\n",
    "    </div>\n",
    "</div>\n",
    "'''\n",
    "from bs4 import BeautifulSoup\n",
    "soup = BeautifulSoup(html, 'lxml')\n",
    "print(soup.find_all(text='Foo'))  #根据文本内容选择  内容匹配的时候比较有用 元素(标签)查找的时候不方便"
   ]
  },
  {
   "cell_type": "code",
   "execution_count": null,
   "metadata": {},
   "outputs": [],
   "source": [
    "# find\n",
    "# find(name,attrs,recursive,text,**kwargs)\n",
    "# find返回的匹配结果的第一个元素\n",
    "\n",
    "# 其他一些类似的用法：\n",
    "# find_parents()返回所有祖先节点，find_parent()返回直接父节点。\n",
    "# find_next_siblings()返回后面所有兄弟节点，find_next_sibling()返回后面第一个兄弟节点。\n",
    "# find_previous_siblings()返回前面所有兄弟节点，find_previous_sibling()返回前面第一个兄弟节点。\n",
    "# find_all_next()返回节点后所有符合条件的节点, find_next()返回第一个符合条件的节点\n",
    "# find_all_previous()返回节点后所有符合条件的节点, find_previous()返回第一个符合条件的节点"
   ]
  },
  {
   "cell_type": "code",
   "execution_count": 48,
   "metadata": {
    "ExecuteTime": {
     "end_time": "2019-08-21T14:29:43.633388Z",
     "start_time": "2019-08-21T14:29:43.621385Z"
    }
   },
   "outputs": [
    {
     "name": "stdout",
     "output_type": "stream",
     "text": [
      "[<div class=\"panel-heading\">\n",
      "<h4>Hello</h4>\n",
      "</div>]\n",
      "[<li class=\"element\">Foo</li>, <li class=\"element\">Bar</li>, <li class=\"element\">Jay</li>, <li class=\"element\">Foo</li>, <li class=\"element\">Bar</li>]\n",
      "[<li class=\"element\">Foo</li>, <li class=\"element\">Bar</li>]\n",
      "<class 'bs4.element.Tag'>\n",
      "<ul class=\"list\" id=\"list-1\">\n",
      "<li class=\"element\">Foo</li>\n",
      "<li class=\"element\">Bar</li>\n",
      "<li class=\"element\">Jay</li>\n",
      "</ul>\n"
     ]
    }
   ],
   "source": [
    "# CSS选择器\n",
    "# 通过select()直接传入CSS选择器就可以完成选择\n",
    "# 熟悉前端的人对CSS可能更加了解，其实用法也是一样的\n",
    "# .表示class #表示id\n",
    "# 标签1，标签2 找到所有的标签1和标签2\n",
    "# 标签1 标签2 找到标签1内部的所有的标签2\n",
    "# [attr] 可以通过这种方法找到具有某个属性的所有标签\n",
    "# [atrr=value] 例子[target=_blank]表示查找所有target=_blank的标签\n",
    "\n",
    "html='''\n",
    "<div class=\"panel\">\n",
    "    <div class=\"panel-heading\">\n",
    "        <h4>Hello</h4>\n",
    "    </div>\n",
    "    <div class=\"panel-body\">\n",
    "        <ul class=\"list\" id=\"list-1\">\n",
    "            <li class=\"element\">Foo</li>\n",
    "            <li class=\"element\">Bar</li>\n",
    "            <li class=\"element\">Jay</li>\n",
    "        </ul>\n",
    "        <ul class=\"list list-small\" id=\"list-2\">\n",
    "            <li class=\"element\">Foo</li>\n",
    "            <li class=\"element\">Bar</li>\n",
    "        </ul>\n",
    "    </div>\n",
    "</div>\n",
    "'''\n",
    "from bs4 import BeautifulSoup\n",
    "soup = BeautifulSoup(html, 'lxml')\n",
    "print(soup.select('.panel .panel-heading'))\n",
    "print(soup.select('ul li'))\n",
    "print(soup.select('#list-2 .element'))\n",
    "print(type(soup.select('ul')[0]))\n",
    "print(soup.select('ul')[0])"
   ]
  },
  {
   "cell_type": "code",
   "execution_count": 54,
   "metadata": {
    "ExecuteTime": {
     "end_time": "2019-08-21T14:36:12.374012Z",
     "start_time": "2019-08-21T14:36:12.359753Z"
    }
   },
   "outputs": [
    {
     "name": "stdout",
     "output_type": "stream",
     "text": [
      "list-1\n",
      "list-1\n",
      "list-2\n",
      "list-2\n"
     ]
    }
   ],
   "source": [
    "#获取属性  获取属性的时候可以通过[属性名]或者attrs[属性名]\n",
    "html='''\n",
    "<div class=\"panel\">\n",
    "    <div class=\"panel-heading\">\n",
    "        <h4>Hello</h4>\n",
    "    </div>\n",
    "    <div class=\"panel-body\">\n",
    "        <ul class=\"list\" id=\"list-1\">\n",
    "            <li class=\"element\">Foo</li>\n",
    "            <li class=\"element\">Bar</li>\n",
    "            <li class=\"element\">Jay</li>\n",
    "        </ul>\n",
    "        <ul class=\"list list-small\" id=\"list-2\">\n",
    "            <li class=\"element\">Foo</li>\n",
    "            <li class=\"element\">Bar</li>\n",
    "        </ul>\n",
    "    </div>\n",
    "</div>\n",
    "'''\n",
    "from bs4 import BeautifulSoup\n",
    "soup = BeautifulSoup(html, 'lxml')\n",
    "for ul in soup.select('ul'):\n",
    "    print(ul['id'])\n",
    "    print(ul.attrs['id'])\n",
    "    "
   ]
  },
  {
   "cell_type": "code",
   "execution_count": 55,
   "metadata": {
    "ExecuteTime": {
     "end_time": "2019-08-21T14:36:46.629039Z",
     "start_time": "2019-08-21T14:36:46.619087Z"
    }
   },
   "outputs": [
    {
     "name": "stdout",
     "output_type": "stream",
     "text": [
      "Foo\n",
      "Bar\n",
      "Jay\n",
      "Foo\n",
      "Bar\n"
     ]
    }
   ],
   "source": [
    "#获取内容  通过get_text()就可以获取文本内容\n",
    "html='''\n",
    "<div class=\"panel\">\n",
    "    <div class=\"panel-heading\">\n",
    "        <h4>Hello</h4>\n",
    "    </div>\n",
    "    <div class=\"panel-body\">\n",
    "        <ul class=\"list\" id=\"list-1\">\n",
    "            <li class=\"element\">Foo</li>\n",
    "            <li class=\"element\">Bar</li>\n",
    "            <li class=\"element\">Jay</li>\n",
    "        </ul>\n",
    "        <ul class=\"list list-small\" id=\"list-2\">\n",
    "            <li class=\"element\">Foo</li>\n",
    "            <li class=\"element\">Bar</li>\n",
    "        </ul>\n",
    "    </div>\n",
    "</div>\n",
    "'''\n",
    "from bs4 import BeautifulSoup\n",
    "soup = BeautifulSoup(html, 'lxml')\n",
    "for li in soup.select('li'):\n",
    "    print(li.get_text())"
   ]
  },
  {
   "cell_type": "code",
   "execution_count": null,
   "metadata": {},
   "outputs": [],
   "source": [
    "总结:\n",
    "推荐使用lxml解析库，必要时使用html.parser\n",
    "标签选择筛选功能弱但是速度快\n",
    "建议使用find()、find_all() 查询匹配单个结果或者多个结果\n",
    "如果对CSS选择器熟悉建议使用select()\n",
    "记住常用的获取属性和文本值的方法"
   ]
  },
  {
   "cell_type": "code",
   "execution_count": null,
   "metadata": {},
   "outputs": [],
   "source": []
  }
 ],
 "metadata": {
  "kernelspec": {
   "display_name": "Python 3",
   "language": "python",
   "name": "python3"
  },
  "language_info": {
   "codemirror_mode": {
    "name": "ipython",
    "version": 3
   },
   "file_extension": ".py",
   "mimetype": "text/x-python",
   "name": "python",
   "nbconvert_exporter": "python",
   "pygments_lexer": "ipython3",
   "version": "3.6.5"
  },
  "toc": {
   "base_numbering": 1,
   "nav_menu": {},
   "number_sections": true,
   "sideBar": true,
   "skip_h1_title": false,
   "title_cell": "Table of Contents",
   "title_sidebar": "Contents",
   "toc_cell": false,
   "toc_position": {},
   "toc_section_display": true,
   "toc_window_display": false
  }
 },
 "nbformat": 4,
 "nbformat_minor": 2
}
