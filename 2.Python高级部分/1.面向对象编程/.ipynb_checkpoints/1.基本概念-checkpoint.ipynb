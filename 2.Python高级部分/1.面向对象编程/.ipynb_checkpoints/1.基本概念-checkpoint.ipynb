{
 "cells": [
  {
   "cell_type": "markdown",
   "metadata": {},
   "source": [
    "### 概念及术语：\n",
    "#### 类(Class): 用来描述具有相同属性和方法的对象的集合。它定义了该集合中每个对象所共有的属性和方法。其中的对象被称作类的实例。\n",
    "#### 实例：也称对象。通过类定义的初始化方法，赋予具体的值，成为一个\"有血有肉的实体\"。\n",
    "#### 实例化：创建类的实例的过程或操作。\n",
    "#### 实例变量：定义在实例中的变量，只作用于当前实例。\n",
    "#### 类变量：类变量是所有实例公有的变量。类变量定义在类中，但在方法体之外。\n",
    "#### 数据成员：类变量、实例变量、方法、类方法、静态方法和属性等的统称。\n",
    "#### 方法：类中定义的函数。\n",
    "#### 静态方法：不需要实例化就可以由类执行的方法\n",
    "#### 类方法：类方法是将类本身作为对象进行操作的方法。\n",
    "#### 方法重写：如果从父类继承的方法不能满足子类的需求，可以对父类的方法进行改写，这个过程也称override。\n",
    "#### 封装：将内部实现包裹起来，对外透明，提供api接口进行调用的机制\n",
    "#### 继承：即一个派生类（derived class）继承父类（base class）的变量和方法。\n",
    "#### 多态：根据对象类型的不同以不同的方式进行处理。"
   ]
  },
  {
   "cell_type": "code",
   "execution_count": null,
   "metadata": {},
   "outputs": [],
   "source": []
  }
 ],
 "metadata": {
  "kernelspec": {
   "display_name": "Python 3.7.4 64-bit ('base': conda)",
   "language": "python",
   "name": "python37464bitbaseconda6107b79217b94e219b4f88edebad3871"
  },
  "language_info": {
   "codemirror_mode": {
    "name": "ipython",
    "version": 3
   },
   "file_extension": ".py",
   "mimetype": "text/x-python",
   "name": "python",
   "nbconvert_exporter": "python",
   "pygments_lexer": "ipython3",
   "version": "3.7.4"
  }
 },
 "nbformat": 4,
 "nbformat_minor": 4
}
